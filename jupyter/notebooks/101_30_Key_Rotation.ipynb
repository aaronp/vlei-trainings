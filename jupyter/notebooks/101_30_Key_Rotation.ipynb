{
 "cells": [
  {
   "cell_type": "markdown",
   "id": "8d9a0c38-8861-4308-82ab-0b65876587d1",
   "metadata": {
    "editable": false,
    "slideshow": {
     "slide_type": ""
    },
    "tags": []
   },
   "source": [
    "# Key Rotation and Pre-rotation"
   ]
  },
  {
   "cell_type": "markdown",
   "id": "a8c40ca0-eead-423c-b10d-a96dbb029263",
   "metadata": {
    "editable": false,
    "slideshow": {
     "slide_type": ""
    },
    "tags": []
   },
   "source": [
    "<div class=\"alert alert-primary\">\n",
    "  <b>🎯 OBJECTIVE</b><hr>\n",
    "    Understand the importance of key rotation, learn about the pre-rotation mechanism, and see how to execute and verify a rotation using KLI commands.\n",
    "</div>"
   ]
  },
  {
   "cell_type": "markdown",
   "id": "f14ae177-4c07-423a-8de1-7a7e1aeb2c3b",
   "metadata": {
    "editable": false,
    "slideshow": {
     "slide_type": ""
    },
    "tags": []
   },
   "source": [
    "## Importance of Key Rotation\n",
    "\n",
    "Key rotation in a scalable identity system while the identifier remains stable is the hard problem from cryptography and distributed systems that KERI solves. The need to rotate keys guided the entire design of KERI and deeply impacted the vLEI system architecture. This is because securing identity and data involves more than just signing data; robust long-term security for an identity and any data it signs relies on key rotation. The ability to rotate keys is a fundamental security practice that involves changing over time the cryptographic keys associated with an identifier.\n",
    "\n",
    "Rotating keys is not just about changing them arbitrarily; it's a crucial practice for several reasons:\n",
    "\n",
    "- **Security Hygiene and Limiting Exposure:** Keys used frequently are more exposed to potential compromise (e.g., residing in memory). Regularly rotating to new keys limits the time window an attacker has if they manage to steal a current key\n",
    "- **Cryptographic Agility:** Cryptographic algorithms evolve. Vulnerabilities are found in older ones, and stronger new ones emerge (like post-quantum algorithms). Key rotation allows an identifier to smoothly transition to updated cryptography without changing the identifier itself\n",
    "- **Recovery and Delegation:** You might need to recover control of an identifier if the current keys are lost or compromised, or delegate authority to another entity. Both scenarios typically involve establishing new keys, which is achieved through rotation events\n"
   ]
  },
  {
   "cell_type": "markdown",
   "id": "67ac8d95-b1a4-49ae-8979-d69c504a3e80",
   "metadata": {
    "editable": false,
    "slideshow": {
     "slide_type": ""
    },
    "tags": []
   },
   "source": [
    "## Understanding Establishment Events\n",
    "\n",
    "Before diving into key rotation, it's helpful to explain Establishment Events. Not all events recorded in a KEL are the same. Some events specifically define or change the set of cryptographic keys that are authorized to control an identifier (AID) at a particular point in time. These crucial events are called Establishment Events. The two primary types are:   \n",
    "- **Inception Event (icp):** The very first event that creates the AID and establishes its initial controlling keys\n",
    "- **Rotation Event (rot):** An event that changes the controlling keys from the set established by the previous Establishment Event to a new set\n",
    "\n",
    "These Establishment Events form the backbone of an AID's security history, allowing anyone to verify which keys had control at what time. Other event types exist (like interaction events), but they rely on the authority defined by the latest Establishment Event. Interaction events rely on the signing authority of the keys referenced in the latest establishment event. "
   ]
  },
  {
   "cell_type": "markdown",
   "id": "589f0634-a9c0-4423-babe-05c1587afcf0",
   "metadata": {
    "editable": false,
    "slideshow": {
     "slide_type": ""
    },
    "tags": []
   },
   "source": [
    "## The Pre-Rotation Mechanism\n",
    "\n",
    "KERI utilizes a strategy called pre-rotation, which decouples the act of key rotation from the preparation for it. With pre-rotation, the cryptographic commitment (a digest of the public keys) for the next key set is embedded within the current key establishment event. This means the next keys can be generated and secured in advance, separate from the currently active operational keys. This pre-commitment acts as a safeguard, as the active private key doesn't grant an attacker the ability to perform the next rotation, as they won't have the corresponding pre-committed private key."
   ]
  },
  {
   "cell_type": "markdown",
   "id": "7851543f-406a-40f0-a7f2-90c42faa4df5",
   "metadata": {
    "editable": false,
    "slideshow": {
     "slide_type": ""
    },
    "tags": []
   },
   "source": [
    "<div class=\"alert alert-info\">\n",
    "  <b>ℹ️ NOTE</b><hr>\n",
    "A potential question arises: \"If the next keys are kept in the same place as the active operational keys, doesn't that defeat the purpose?\" Pre-rotation enables stronger security by decoupling preparation from rotation, but realizing this benefit depends on sound operational practices. Specifically, the pre-committed keys must be stored more securely than the active ones. KERI provides the mechanism; effective key management brings it to life.\n",
    "</div>"
   ]
  },
  {
   "cell_type": "markdown",
   "id": "222e3353-4c52-4aaa-bd9c-d9fd60bda8ed",
   "metadata": {
    "editable": false,
    "slideshow": {
     "slide_type": ""
    },
    "tags": []
   },
   "source": [
    "## Performing Key Rotation with KLI\n",
    "\n",
    "Next, you will complete a key rotation example. Start by setting up a keystore and an identifier."
   ]
  },
  {
   "cell_type": "code",
   "execution_count": 1,
   "id": "4230ed7d-5b13-422e-a80d-371ef92fd4ea",
   "metadata": {
    "editable": false,
    "slideshow": {
     "slide_type": ""
    },
    "tags": []
   },
   "outputs": [
    {
     "name": "stdout",
     "output_type": "stream",
     "text": [
      "Proceeding with deletion of '/usr/local/var/keri/' without confirmation.\n",
      "✅ Successfully removed: /usr/local/var/keri/\n",
      "KERI Keystore created at: /usr/local/var/keri/ks/rotation-keystore\n",
      "KERI Database created at: /usr/local/var/keri/db/rotation-keystore\n",
      "KERI Credential Store created at: /usr/local/var/keri/reg/rotation-keystore\n",
      "\taeid: BD-1udeJaXFzKbSUFb6nhmndaLlMj-pdlNvNoN562h3z\n",
      "Prefix  BEG5uWt6xB94bIkdGUCjYcBf_ryDgPa7t1GUtVc7lerw\n",
      "\tPublic key 1:  BEG5uWt6xB94bIkdGUCjYcBf_ryDgPa7t1GUtVc7lerw\n",
      "\n"
     ]
    }
   ],
   "source": [
    "# Imports and Utility functions\n",
    "from scripts.utils import clear_keri\n",
    "clear_keri()\n",
    "\n",
    "keystore_name=\"rotation-keystore\"\n",
    "keystore_passcode=\"xSLg286d4iWiRg2mzGYca\"\n",
    "salt=\"0ABeuT2dErMrqFE5Dmrnc2Bq\"\n",
    "\n",
    "# Alias for non-transferable AID\n",
    "aid_alias_non_transferable = \"aid-non-transferable\"\n",
    "\n",
    "# Initialize the keystore\n",
    "!kli init --name {keystore_name} --passcode {keystore_passcode} --salt {salt}\n",
    "\n",
    "# Incept the AID\n",
    "!kli incept --name {keystore_name} \\\n",
    "    --passcode {keystore_passcode} \\\n",
    "    --alias {aid_alias_non_transferable} \\\n",
    "    --icount 1 \\\n",
    "    --isith 1 \\\n",
    "    --ncount 1 \\\n",
    "    --nsith 1 \\\n",
    "    --toad 0"
   ]
  },
  {
   "cell_type": "markdown",
   "id": "743ef4a5-5fc5-4de2-83a7-9bf386d6c2da",
   "metadata": {
    "editable": false,
    "slideshow": {
     "slide_type": ""
    },
    "tags": []
   },
   "source": [
    "Now, attempt to rotate the keys for this AID, using the command `kli rotate`.\n",
    "You will see an error message"
   ]
  },
  {
   "cell_type": "code",
   "execution_count": 2,
   "id": "8409372e-00a2-49fc-9783-65d1d3bb3e9a",
   "metadata": {
    "editable": false,
    "slideshow": {
     "slide_type": ""
    },
    "tags": []
   },
   "outputs": [
    {
     "name": "stdout",
     "output_type": "stream",
     "text": [
      "ERR: Attempt to rotate nontransferable pre=BEG5uWt6xB94bIkdGUCjYcBf_ryDgPa7t1GUtVc7lerw.\n"
     ]
    }
   ],
   "source": [
    "!kli rotate --name {keystore_name} --alias {aid_alias_non_transferable} --passcode {keystore_passcode}"
   ]
  },
  {
   "cell_type": "markdown",
   "id": "e86f70c5-285f-4170-bab3-1e85a815fdd3",
   "metadata": {
    "editable": false,
    "slideshow": {
     "slide_type": ""
    },
    "tags": []
   },
   "source": [
    "The error message says we tried to rotate a nontransferable prefix. What does this mean?\n",
    "\n",
    "### Transferable vs. Non-Transferable AIDs  \n",
    "\n",
    "Not all KERI identifiers are designed to have their keys rotated. By default, `kli incept` creates a non-transferable identifier. Here is the difference:\n",
    "\n",
    "**Non-Transferable AID:**\n",
    "- Key rotation is not possible. Think of it as a fixed set of keys for an identifier.\n",
    "- Its control is permanently bound to the initial set of keys established at inception.\n",
    "- The prefix is derived from these initial keys.\n",
    "- As a special case, when only a single key pair was used to create a non-transferable AID the public key is directly derivable from the AID prefix itself.\n",
    "  - This is useful for use cases where you want to avoid sending KELs of non-transferable AIDs and instead infer the one-event KEL and associated public key from the AID.\n",
    "\n",
    "**Transferable AID:**\n",
    "- Key rotation is possible. \n",
    "- Its control can be transferred (rotated) to new sets of keys over time.\n",
    "- It uses the pre-rotation mechanism, committing to the next set of keys in each rotation event.\n",
    "- The prefix is derived from the initial keys. Although authoritative keys will change upon each rotation the prefix will remain the same. This allows the identifier to remain stable even as its underlying controlling keys change.\n",
    "\n",
    "How does KERI know the difference?\n",
    "\n",
    "The difference lies in the parameters set during the AID's inception event. Let's look at the inception event data for the non-transferable AID we just created:"
   ]
  },
  {
   "cell_type": "code",
   "execution_count": 3,
   "id": "e9ea21c2-62d6-430e-ade4-61a19523ccbe",
   "metadata": {
    "editable": false,
    "slideshow": {
     "slide_type": ""
    },
    "tags": []
   },
   "outputs": [
    {
     "name": "stdout",
     "output_type": "stream",
     "text": [
      "Alias: \taid-non-transferable\n",
      "Identifier: BEG5uWt6xB94bIkdGUCjYcBf_ryDgPa7t1GUtVc7lerw\n",
      "Seq No:\t0\n",
      "\n",
      "Witnesses:\n",
      "Count:\t\t0\n",
      "Receipts:\t0\n",
      "Threshold:\t0\n",
      "\n",
      "Public Keys:\t\n",
      "\t1. BEG5uWt6xB94bIkdGUCjYcBf_ryDgPa7t1GUtVc7lerw\n",
      "\n",
      "\n",
      "Witnesses:\t\n",
      "\n",
      "{\n",
      " \"v\": \"KERI10JSON0000fd_\",\n",
      " \"t\": \"icp\",\n",
      " \"d\": \"EC8pCWrNEdrLD64K1Z7qlYQp7mp6Dq7n30Ze6ElP49pO\",\n",
      " \"i\": \"BEG5uWt6xB94bIkdGUCjYcBf_ryDgPa7t1GUtVc7lerw\",\n",
      " \"s\": \"0\",\n",
      " \"kt\": \"1\",\n",
      " \"k\": [\n",
      "  \"BEG5uWt6xB94bIkdGUCjYcBf_ryDgPa7t1GUtVc7lerw\"\n",
      " ],\n",
      " \"nt\": \"0\",\n",
      " \"n\": [],\n",
      " \"bt\": \"0\",\n",
      " \"b\": [],\n",
      " \"c\": [],\n",
      " \"a\": []\n",
      "}\n",
      "\n"
     ]
    }
   ],
   "source": [
    "!kli status --name {keystore_name} --alias {aid_alias_non_transferable} --passcode {keystore_passcode} --verbose"
   ]
  },
  {
   "cell_type": "markdown",
   "id": "32bd4642-f292-40aa-a953-7288883d09f3",
   "metadata": {
    "editable": false,
    "slideshow": {
     "slide_type": ""
    },
    "tags": []
   },
   "source": [
    "Look closely at the JSON output at the end (representing the inception event). You'll find these key fields:\n",
    "- `\"nt\": \"0\"`: The threshold required to authorize the next key set is zero.\n",
    "- `\"n\": []`: The list of digests for the next public keys is empty.\n",
    "\n",
    "These two fields mark the AID as non-transferable. No commitment to future keys was made."
   ]
  },
  {
   "cell_type": "markdown",
   "id": "052609fc-5c7e-46d1-99c9-56782b677586",
   "metadata": {
    "editable": false,
    "slideshow": {
     "slide_type": ""
    },
    "tags": []
   },
   "source": [
    "### Incepting and Rotating a Transferable Identifier\n",
    "\n",
    "To enable key rotation, we need to explicitly create a transferable AID using the `--transferable` option during inception and using `--ncount` and `--nsith` equal to 1 (or greater). This tells KLI to:\n",
    "\n",
    "- Generate not just the initial keys, but also the next set of keys (pre-rotated keys).\n",
    "- Set the appropriate nt (Next Key Signing Threshold, defined by `nsith`) in the inception event.\n",
    "- Include the digests of the next public keys in the n field of the inception event.\n",
    "  \n",
    "Now create a transferable AID:"
   ]
  },
  {
   "cell_type": "code",
   "execution_count": null,
   "id": "1d91fce4-13dd-4dbf-8dae-c28d87e5a71d",
   "metadata": {
    "editable": false,
    "slideshow": {
     "slide_type": ""
    },
    "tags": []
   },
   "outputs": [],
   "source": [
    "# Alias for our transferable AID\n",
    "aid_alias_transferable = \"aid-transferable\"\n",
    "\n",
    "# Create the identifier WITH the --transferable flag\n",
    "!kli incept --name {keystore_name} \\\n",
    "    --passcode {keystore_passcode} \\\n",
    "    --alias {aid_alias_transferable} \\\n",
    "    --icount 1 \\\n",
    "    --isith 1 \\\n",
    "    --ncount 1 \\\n",
    "    --nsith 1 \\\n",
    "    --toad 0 \\\n",
    "    --transferable"
   ]
  },
  {
   "cell_type": "markdown",
   "id": "12defe5b-bfc6-429f-acba-5e0a9707360c",
   "metadata": {
    "editable": false,
    "slideshow": {
     "slide_type": ""
    },
    "tags": []
   },
   "source": [
    "Now, check its status and inception event:"
   ]
  },
  {
   "cell_type": "code",
   "execution_count": null,
   "id": "6e44a900-37e1-4fb3-b4b3-98e096bf8edb",
   "metadata": {
    "editable": false,
    "slideshow": {
     "slide_type": ""
    },
    "tags": []
   },
   "outputs": [],
   "source": [
    "!kli status --name {keystore_name} \\\n",
    "    --passcode {keystore_passcode} \\\n",
    "    --alias {aid_alias_transferable} \\\n",
    "    --verbose"
   ]
  },
  {
   "cell_type": "markdown",
   "id": "0d07d085-a240-49a8-b107-6a1970545a40",
   "metadata": {
    "editable": false,
    "slideshow": {
     "slide_type": ""
    },
    "tags": []
   },
   "source": [
    "Compare the JSON output for this transferable AID's inception event with the previous one. You'll notice key differences:\n",
    "- `\"nt\": \"1\"` the next Key Signing Threshold is now 1\n",
    "- `\"n\": [\"EO95Pwm8WYG_dIS2-H6LGoXmzOEEnbRljeIjy-Hd7aVx\"]` The presence of a key digest means that this AID is transferable and has pre-rotated keys ready.\n"
   ]
  },
  {
   "cell_type": "markdown",
   "id": "c033ac85-48b6-4651-a8e3-c6de0cfefd9f",
   "metadata": {
    "editable": false,
    "slideshow": {
     "slide_type": ""
    },
    "tags": []
   },
   "source": [
    "### Performing the Rotation\n",
    "\n",
    "With the commitment to the next keys in place, we can now successfully rotate the key of the transferable AID. "
   ]
  },
  {
   "cell_type": "code",
   "execution_count": null,
   "id": "cf01601f-170d-41cd-bd76-51f6d3994552",
   "metadata": {
    "editable": false,
    "slideshow": {
     "slide_type": ""
    },
    "tags": []
   },
   "outputs": [],
   "source": [
    "!kli rotate --name {keystore_name} \\\n",
    "    --passcode {keystore_passcode} \\\n",
    "    --alias {aid_alias_transferable} "
   ]
  },
  {
   "cell_type": "markdown",
   "id": "3c1d8199-6434-4419-8112-472c14e06adc",
   "metadata": {
    "editable": false,
    "slideshow": {
     "slide_type": ""
    },
    "tags": []
   },
   "source": [
    "### Examining the Rotation (rot) Event\n",
    "\n",
    "The kli rotate command performed the key rotation by creating and signing a new establishment event of type `rot`. Let's examine the state of the AID after the rotation:"
   ]
  },
  {
   "cell_type": "code",
   "execution_count": null,
   "id": "4854c8ff-2143-49c4-8498-dc5a87d97c43",
   "metadata": {
    "editable": false,
    "slideshow": {
     "slide_type": ""
    },
    "tags": []
   },
   "outputs": [],
   "source": [
    "!kli status --name {keystore_name} \\\n",
    "    --passcode {keystore_passcode} \\\n",
    "    --alias {aid_alias_transferable} \\\n",
    "    --verbose"
   ]
  },
  {
   "cell_type": "markdown",
   "id": "a043194c-0768-4cd9-8302-aad840f813df",
   "metadata": {
    "editable": false,
    "slideshow": {
     "slide_type": ""
    },
    "tags": []
   },
   "source": [
    "Observe the following changes in the output:\n",
    "\n",
    "- **Event Type (t):** The latest event shows `\"t\": \"rot\"`, indicating it's a rotation event.\n",
    "- **Digest said (d):** This is the digest of the event block.\n",
    "- **Sequence Number (s):** The `s` value in the latest event has incremented (from \"0\" to \"1\"). Each rotation event increases the sequence number.\n",
    "- **Current Keys (k):** The public key(s) listed in the `k` field of the latest event have changed. They are revealed as public keys instead of the digest previously listed in the `n` field of the inception event. The previously committed pre-rotated keys are now the active signing keys.\n",
    "- **Next Keys Signing Threshold (nt):** Is 1, as defined by the `--nsith` parameter during inception\n",
    "- **New Next Keys (n):** The `n` field in the rotation event contains a new key digest. The rotation process automatically generated the next set of keys for the next potential rotation and committed them.\n",
    "- **Prefix (i):** has not changed. \n",
    "\n",
    "**Understanding the rot Event**\n",
    "\n",
    "- A `rot` event is an Establishment Event. Like the inception (`icp`) event, it defines the authoritative key state of an AID at a specific point in its history (sequence number).\n",
    "- Its primary function is to change the key state. It transitions control from the keys established in the previous establishment event to the keys that were pre-rotated (committed to via the n field) in that previous event.\n",
    "- It simultaneously establishes the commitment (n field and nt threshold) for the next rotation cycle.\n",
    "- This chaining of events (icp -> rot -> rot -> ...) forms the Key Event Log, and the ability to verify this log using receipts from witnesses is a fundamental concept within KERI.\n",
    "\n",
    "You have now successfully rotated the keys for a transferable KERI identifier!"
   ]
  },
  {
   "cell_type": "markdown",
   "id": "e7a2e29f-593c-4576-964b-e89f76f70e4d",
   "metadata": {
    "editable": false,
    "slideshow": {
     "slide_type": ""
    },
    "tags": []
   },
   "source": [
    "<div class=\"alert alert-primary\">\n",
    "  <b>📝 SUMMARY</b><hr>\n",
    "<p>\n",
    "Key rotation is essential for security hygiene, cryptographic agility, and enabling recovery or delegation. KERI uses a \"pre-rotation\" strategy where the commitment (digest) for the next set of keys is included in the current key establishment event (`icp` or `rot`). This secures the rotation process even if the currently active key is compromised. \n",
    "</p>\n",
    "Performing a rotation (<code>kli rotate</code>) creates a rot event, increments the sequence number, activates the previously pre-rotated keys (revealing them in the k field), and commits to a new set of keys (digest in the n field), all while keeping the AID prefix unchanged. This chained process forms part of the Key Event Log (KEL).\n",
    "</div>"
   ]
  },
  {
   "cell_type": "markdown",
   "id": "8f76c723-1dd3-48ae-ae98-9f77553b049b",
   "metadata": {
    "editable": false,
    "slideshow": {
     "slide_type": ""
    },
    "tags": []
   },
   "source": [
    "[<- Prev (Signatures)](101_25_Signatures.ipynb) | [Next (Modes, OOBIs, and Witnesses) ->](101_35_Modes_oobis_and_witnesses.ipynb)"
   ]
  }
 ],
 "metadata": {
  "kernelspec": {
   "display_name": "Python 3 (ipykernel)",
   "language": "python",
   "name": "python3"
  },
  "language_info": {
   "codemirror_mode": {
    "name": "ipython",
    "version": 3
   },
   "file_extension": ".py",
   "mimetype": "text/x-python",
   "name": "python",
   "nbconvert_exporter": "python",
   "pygments_lexer": "ipython3",
   "version": "3.12.9"
  }
 },
 "nbformat": 4,
 "nbformat_minor": 5
}
