{
 "cells": [
  {
   "cell_type": "markdown",
   "id": "8c71ee0b-296d-4fff-a6e8-0f6993d2de6d",
   "metadata": {
    "editable": false,
    "slideshow": {
     "slide_type": ""
    },
    "tags": []
   },
   "source": [
    "# Understanding the KERI Command Line Interface (KLI)"
   ]
  },
  {
   "cell_type": "markdown",
   "id": "344de261-c245-4a30-87cc-5a276b0f40bc",
   "metadata": {
    "editable": false,
    "slideshow": {
     "slide_type": ""
    },
    "tags": []
   },
   "source": [
    "<div class=\"alert alert-primary\">\n",
    "  <b>🎯 OBJECTIVE</b><hr>\n",
    "Introduce the KERI Command Line Interface (KLI) and demonstrate some of its basic utility commands.\n",
    "</div>"
   ]
  },
  {
   "cell_type": "markdown",
   "id": "2ac4ea9a-d21e-4950-8885-30d28f560cee",
   "metadata": {
    "editable": false,
    "slideshow": {
     "slide_type": ""
    },
    "tags": []
   },
   "source": [
    "## Using KLI in Notebooks\n",
    "\n",
    "Throughout these notebooks, you will interact with the KERI protocol using the **KLI**. The KLI is the standard text-based tool for managing identifiers and infrastructure directly from your computer's terminal. \n",
    "\n",
    "Since you are working within Jupyter notebooks, the KLI commands are written with an exclamation mark prefix (`!`). This tells the notebook environment to run the command in the underlying system shell, rather than as Python code. So, you'll frequently see commands structured like this:\n",
    "\n",
    "`!kli <command> [options]`  \n",
    "\n",
    "**What can you do with KLI?**\n",
    "\n",
    "The KLI provides a wide range of functionalities. Key capabilities include:\n",
    "- **Identifier management**: Management and creation of keystores and identifiers\n",
    "- **Utility functions**: Functions to facilitate KERI-related operations for debugging and troubleshooting.\n",
    "- **Credential management**: Creation of credentials\n",
    "- **Comunication operations**: Establishing connections between AIDs\n",
    "- **IPEX actions**: To issue and present credentials\n",
    "- **Run witness**: Start a witness process in order to receipt key events\n",
    "- **Others**: The KLI provides commands for most of the features available in the KERI and ACDC protocol implementations.\n",
    "\n"
   ]
  },
  {
   "cell_type": "markdown",
   "id": "3ca2afe1-ffa3-4387-96ed-da86cdffb118",
   "metadata": {
    "editable": false,
    "slideshow": {
     "slide_type": ""
    },
    "tags": []
   },
   "source": [
    "<div class=\"alert alert-info\">\n",
    "  <b>ℹ️ NOTE</b><hr>\n",
    "    There are UI based methods to manage Identifiers, known as wallets, but for the purpose of this training, the KLI offers a good compromise between ease of use and visibility of technical details. \n",
    "</div>"
   ]
  },
  {
   "cell_type": "markdown",
   "id": "bbcd7aae-da03-4467-a47c-853b5952a995",
   "metadata": {
    "editable": false,
    "slideshow": {
     "slide_type": ""
    },
    "tags": []
   },
   "source": [
    "## Overview of Basic Utilities\n",
    "\n",
    "Let's explore some helpful commands available in the **KERI Command Line Interface (KLI)**.\n",
    "\n",
    "This isn't a complete list of every command, but it covers some essential utilities that you'll find useful as you work with KERI."
   ]
  },
  {
   "cell_type": "markdown",
   "id": "37090141-3139-4c22-8591-eea114f5d537",
   "metadata": {
    "editable": false,
    "slideshow": {
     "slide_type": ""
    },
    "tags": []
   },
   "source": [
    "**KERI library version**"
   ]
  },
  {
   "cell_type": "code",
   "execution_count": 1,
   "id": "bf668848-930f-4042-a524-b21378180eb1",
   "metadata": {
    "editable": false,
    "slideshow": {
     "slide_type": ""
    },
    "tags": []
   },
   "outputs": [
    {
     "name": "stdout",
     "output_type": "stream",
     "text": [
      "Library version: 1.2.8\n"
     ]
    }
   ],
   "source": [
    "!kli version"
   ]
  },
  {
   "cell_type": "markdown",
   "id": "519e873d-f81d-4c7d-8be5-d2caafdcca80",
   "metadata": {
    "editable": false,
    "slideshow": {
     "slide_type": ""
    },
    "tags": []
   },
   "source": [
    "**Generate a salt**: Create a new random salt (or seed) in the fully-qualified [CESR](https://trustoverip.github.io/tswg-cesr-specification/) format. A salt is a random value used as an input when generating cryptographic key pairs to help ensure their uniqueness and security.\n",
    "\n",
    "What it means to be fully qualified is that the bytes in the cryptographic salt are ordered according to the CESR protocol. This ordering will be explained in a later training when CESR is introduced and explained. For now just think of CESR as a custom file format for KERI and ACDC data."
   ]
  },
  {
   "cell_type": "code",
   "execution_count": 2,
   "id": "5a7fc70a-e0c1-44d5-aa5d-8b48985041b1",
   "metadata": {
    "editable": false,
    "slideshow": {
     "slide_type": ""
    },
    "tags": []
   },
   "outputs": [
    {
     "name": "stdout",
     "output_type": "stream",
     "text": [
      "0ADfET-_1-g4-IbKpky4yOpj\n"
     ]
    }
   ],
   "source": [
    "# This will output a qualified base64 string representing the salt\n",
    "!kli salt"
   ]
  },
  {
   "cell_type": "markdown",
   "id": "48e99e59-22b4-4938-b68d-0be81115b801",
   "metadata": {
    "editable": false,
    "slideshow": {
     "slide_type": ""
    },
    "tags": []
   },
   "source": [
    "**Generate a passcode**: The passcode is used to encrypt your keystore, providing an additional layer of protection."
   ]
  },
  {
   "cell_type": "code",
   "execution_count": 3,
   "id": "578f8c15-4b46-4c51-bb09-3a9eb97f5b42",
   "metadata": {
    "editable": false,
    "slideshow": {
     "slide_type": ""
    },
    "tags": []
   },
   "outputs": [
    {
     "name": "stdout",
     "output_type": "stream",
     "text": [
      "YKBktBDaehycVK8l49zG6\n"
     ]
    }
   ],
   "source": [
    "# This will output a random string suitable for use as an encryption passcode\n",
    "!kli passcode generate"
   ]
  },
  {
   "cell_type": "markdown",
   "id": "551e61a0-6c18-4ced-99be-5f6a2b57e7e2",
   "metadata": {
    "editable": false,
    "slideshow": {
     "slide_type": ""
    },
    "tags": []
   },
   "source": [
    "**Print a timestamp**: Timestamps are typically used in operations involving multiple signers with what are called multi-signature (or \"multisig\") groups."
   ]
  },
  {
   "cell_type": "code",
   "execution_count": 6,
   "id": "5bf69bee-c4dd-42ec-abc6-f3055a34ce2e",
   "metadata": {
    "editable": false,
    "slideshow": {
     "slide_type": ""
    },
    "tags": []
   },
   "outputs": [
    {
     "name": "stdout",
     "output_type": "stream",
     "text": [
      "2025-09-17T18:04:51.569120+00:00\n"
     ]
    }
   ],
   "source": [
    "!kli time"
   ]
  },
  {
   "cell_type": "markdown",
   "id": "1a0c23f7-9ea0-4c9b-94a5-25d269cb2317",
   "metadata": {
    "editable": false,
    "slideshow": {
     "slide_type": ""
    },
    "tags": []
   },
   "source": [
    "**Display help menu**"
   ]
  },
  {
   "cell_type": "code",
   "execution_count": 7,
   "id": "027d7f61-836b-4c0e-a5d2-c9d67932128b",
   "metadata": {
    "editable": false,
    "slideshow": {
     "slide_type": ""
    },
    "tags": []
   },
   "outputs": [
    {
     "name": "stdout",
     "output_type": "stream",
     "text": [
      "usage: kli [-h] command ...\n",
      "\n",
      "options:\n",
      "  -h, --help       show this help message and exit\n",
      "\n",
      "subcommands:\n",
      "\n",
      "  command\n",
      "    aid            Print the AID for a given alias\n",
      "    challenge\n",
      "    clean          Cleans and migrates a database and keystore\n",
      "    contacts\n",
      "    decrypt        Decrypt arbitrary data for AIDs with Ed25519 p ...\n",
      "    delegate\n",
      "    did\n",
      "    ends\n",
      "    escrow\n",
      "    event          Print an event from an AID, or specific values ...\n",
      "    export         Export key events in CESR stream format\n",
      "    incept         Initialize a prefix\n",
      "    init           Create a database and keystore\n",
      "    interact       Create and publish an interaction event\n",
      "    introduce      Send an rpy /introduce message to recipient wi ...\n",
      "    ipex\n",
      "    kevers         Poll events at controller for prefix\n",
      "    list           List existing identifiers\n",
      "    local\n",
      "    location\n",
      "    mailbox\n",
      "    migrate\n",
      "    multisig\n",
      "    nonce          Print a new random nonce\n",
      "    notifications\n",
      "    oobi\n",
      "    passcode\n",
      "    query          Request KEL from Witness\n",
      "    rename         Change the alias for a local identifier\n",
      "    rollback       Revert an unpublished interaction event at the ...\n",
      "    rotate         Rotate keys\n",
      "    saidify        Saidify a JSON file.\n",
      "    salt           Print a new random passcode\n",
      "    sign           Sign an arbitrary string\n",
      "    ssh\n",
      "    status         View status of a local AID\n",
      "    time           Print a new time\n",
      "    vc\n",
      "    verify         Verify signature(s) on arbitrary data\n",
      "    version        Print version of KLI\n",
      "    watcher\n",
      "    witness\n"
     ]
    }
   ],
   "source": [
    "!kli -h"
   ]
  },
  {
   "cell_type": "markdown",
   "id": "f225f690-b47d-4bbb-923c-5cd4858eb0e2",
   "metadata": {
    "editable": false,
    "slideshow": {
     "slide_type": ""
    },
    "tags": []
   },
   "source": [
    "Additional commands will be introduced as they are used in upcoming trainings."
   ]
  },
  {
   "cell_type": "markdown",
   "id": "ed81cdd1-ed9c-41dc-b502-c5e5829dbe80",
   "metadata": {
    "editable": false,
    "slideshow": {
     "slide_type": ""
    },
    "tags": []
   },
   "source": [
    "[<- Prev (Intro)](101_07_Introduction_to-KERI_ACDC_and_vLEI.ipynb) | [Next (Controllers and Identifiers) ->](101_15_Controllers_and_Identifiers.ipynb)"
   ]
  }
 ],
 "metadata": {
  "kernelspec": {
   "display_name": "Python 3 (ipykernel)",
   "language": "python",
   "name": "python3"
  },
  "language_info": {
   "codemirror_mode": {
    "name": "ipython",
    "version": 3
   },
   "file_extension": ".py",
   "mimetype": "text/x-python",
   "name": "python",
   "nbconvert_exporter": "python",
   "pygments_lexer": "ipython3",
   "version": "3.12.9"
  }
 },
 "nbformat": 4,
 "nbformat_minor": 5
}
