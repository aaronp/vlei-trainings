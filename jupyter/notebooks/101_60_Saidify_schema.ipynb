{
 "cells": [
  {
   "cell_type": "markdown",
   "id": "cf52506c-6a28-4c99-962e-b4d3f07d692f",
   "metadata": {
    "editable": false,
    "slideshow": {
     "slide_type": ""
    },
    "tags": []
   },
   "source": [
    "# SAIDifying ACDC Schemas"
   ]
  },
  {
   "cell_type": "markdown",
   "id": "926c2114-34a7-4e8c-8f7c-f88b2af76e52",
   "metadata": {
    "editable": false,
    "slideshow": {
     "slide_type": ""
    },
    "tags": []
   },
   "source": [
    "<div class=\"alert alert-primary\">\n",
    "  <b>🎯 OBJECTIVE</b><hr>\n",
    "    Explain the purpose and benefits of using Self-Addressing Identifiers (SAIDs) for ACDC schemas and demonstrate the practical, recursive process of calculating and embedding these SAIDs into an ACDC schema file (\"SAIDifying\").\n",
    "</div>"
   ]
  },
  {
   "cell_type": "markdown",
   "id": "cfbdf44a-0931-47c8-90d6-14d44b988725",
   "metadata": {
    "editable": false,
    "slideshow": {
     "slide_type": ""
    },
    "tags": []
   },
   "source": [
    "## Role of Schema SAIDs\n",
    "\n",
    "A key feature of KERI and ACDCs is the use of SAIDs (Self-Addressing Identifiers) for schemas. The SAID in a schema's `$id` field is a digest of the canonical form of that schema block.\n",
    "\n",
    "Why it matters:\n",
    "- **Lookup:** SAIDs provide a universal, unique identifier to retrieve a specific, verified version of a schema.\n",
    "- **Immutability:** Once a schema version is SAIDified and published, it's cryptographically locked. New versions require a new SAID.\n",
    "- **Integrity:** If anyone modifies the schema file after its SAID has been calculated and embedded, the SAID will no longer match the content, making tampering evident.\n",
    "      \n",
    "Calculating and embedding these SAIDs requires a specific process, often called **\"SAIDifying\"**. This involves calculating the SAIDs for the innermost blocks (like attributes, edges, rules) first, embedding them, and then calculating the SAID for the next level up, until the top-level schema SAID is computed."
   ]
  },
  {
   "cell_type": "markdown",
   "id": "e0004b7b-7bb9-4489-abf8-45ecec869680",
   "metadata": {
    "editable": false,
    "slideshow": {
     "slide_type": ""
    },
    "tags": []
   },
   "source": [
    "## The SAIDification Process\n",
    "\n",
    "We have provided a sample schema and a utility function to help you SAIDfy the schema. Here are the steps.\n",
    "\n",
    "### Step 1: Write Schema JSON\n",
    "\n",
    "First, you will create a JSON file with the basic structure as seen in the previous notebook. Since we provide the schema, you don't need to worry about it. But review the file **[sample_credential_schema.json](config/schemas/sample_schema.bak.json)**, since it is the schema you will use, initially unprocessed. Notice the `$id` fields are initially empty strings `\"\"`.  \n",
    "\n",
    "### Step 2: Process and Embed SAIDs\n",
    "\n",
    "Now, you need to process the schema to embed the Self-Addressing Identifiers (SAIDs). For this, we use the provided **[Python script](scripts/saidify.py)** available in the scripts folder. It calculates the required digests from the content and adds the SAIDs to the file. "
   ]
  },
  {
   "cell_type": "code",
   "execution_count": 1,
   "id": "a70be2f6-449f-4697-ae66-7d53dc766253",
   "metadata": {
    "editable": false,
    "slideshow": {
     "slide_type": ""
    },
    "tags": []
   },
   "outputs": [
    {
     "name": "stdout",
     "output_type": "stream",
     "text": [
      "Successfully wrote processed data to ./config/schemas/sample_schema.json\n",
      "\n",
      "calculated saids ($id):\n",
      "\u001b[0;32m\"EJgBEKtba5ewUgG3k268YadY2eGBRrsVF6fF6tLyoRni\"\u001b[0m\n",
      "\u001b[0;32m\"ED614TseulOlXWhFNsOcKIKt9Na0gCByugqyKVsva-gl\"\u001b[0m\n"
     ]
    }
   ],
   "source": [
    "from scripts.saidify import process_schema_file\n",
    "\n",
    "# Run the saidify script\n",
    "process_schema_file(\"./config/schemas/sample_schema.bak.json\", \"./config/schemas/sample_schema.json\", True)\n",
    "\n",
    "# Displays all \"$id\" values from any JSON objects found recursively in the schema file\n",
    "print(\"\\ncalculated saids ($id):\")\n",
    "!jq '.. | objects | .[\"$id\"]? // empty' ./config/schemas/sample_schema.json\n"
   ]
  },
  {
   "cell_type": "markdown",
   "id": "cc33d12d-09ae-43cc-b491-d94cf7bd15c7",
   "metadata": {
    "editable": false,
    "slideshow": {
     "slide_type": ""
    },
    "tags": []
   },
   "source": [
    "After running this command, if you inspect output **[sample_credential_schema.json](config/schemas/sample_schema.json)**, you will see that the previously empty `\"id\": \"\"` fields (both the top-level one and the one inside the a block) have been populated with SAID strings (long Base64-like identifiers).\n",
    "\n",
    "You now have a cryptographically verifiable schema identified by its top-level SAID!"
   ]
  },
  {
   "cell_type": "markdown",
   "id": "71c14e31-d6e2-439d-921c-f158a7d9f560",
   "metadata": {
    "editable": false,
    "slideshow": {
     "slide_type": ""
    },
    "tags": []
   },
   "source": [
    "<div class=\"alert alert-info\">\n",
    "  <b>💡 TIP</b><hr>\n",
    "    The KERI command-line tool (`kli`) provides the <code>kli saidify</code> command. When used like <code>kli saidify --file &lt;filename&gt; --label '&lt;label&gt;'</code>, it calculates a SAID for the specified file content and can embed it into the field matching the label (e.g., <code>\"$id\"</code> at the top level).\n",
    "    <br><br>\n",
    "    However, automatically processing nested structures and dependencies within complex ACDC schemas typically requires helper tools or custom scripts to ensure all inner SAIDs are calculated and embedded correctly before the final outer SAID is generated.\n",
    "</div>"
   ]
  },
  {
   "cell_type": "markdown",
   "id": "d3dc956e-6363-4966-bfe1-94ed69ed1355",
   "metadata": {
    "editable": false,
    "slideshow": {
     "slide_type": ""
    },
    "tags": []
   },
   "source": [
    "## Making Schemas Discoverable\n",
    "For an issuer to issue an ACDC using this schema, and for a recipient/verifier to validate it, they need access to this exact, SAIDified schema definition.\n",
    "\n",
    "How do they get it? The SAID acts as a universal lookup key. Common ways to make schemas available include:\n",
    "\n",
    "- Simple Web Server: Host the SAIDified JSON file on a basic web server. Controllers can be configured (often via OOBIs, covered later) to fetch the schema from that URL using its SAID.   \n",
    "- Content-Addressable Network: Store the schema on a network like IPFS, where the SAID naturally aligns with the content digest used for retrieval.\n",
    "- Direct Exchange: For specific interactions, the schema could potentially be exchanged directly between parties (though less common for widely used schemas).\n",
    "The key point is that the schema, identified by its SAID, must be retrievable by parties needing to issue or verify credentials based on it.\n",
    "\n",
    "In the next notebook, we'll use our SAIDified schema to set up a Credential Registry and issue our first actual ACDC."
   ]
  },
  {
   "cell_type": "markdown",
   "id": "f81251c8-5117-43f9-9470-c0b35331f6fb",
   "metadata": {
    "editable": false,
    "slideshow": {
     "slide_type": ""
    },
    "tags": []
   },
   "source": [
    "<div class=\"alert alert-primary\">\n",
    "  <b>📝 SUMMARY</b><hr>\n",
    "    KERI uses Self-Addressing Identifiers (SAIDs) as unique, verifiable identifiers for ACDC schemas, embedded in the <code>&#36;id</code> field. A schema's SAID is a cryptographic digest of its content, guaranteeing integrity (tamper-evidence) and immutability (specific to that version). This process, called \"SAIDifying,\" involves calculating and embedding SAIDs recursively from inner blocks outwards. Practically, tools or scripts (like the example <code>process_schema_file</code> or <code>kli saidify</code>) are used to populate the initially empty <code>&#36;id</code> fields in the schema JSON. Once SAIDified, the schema must be accessible (e.g., hosted on a server) so others can retrieve and verify it using its SAID.\n",
    "</div>"
   ]
  },
  {
   "cell_type": "markdown",
   "id": "aed69420-552d-4fd9-b8b2-746cc246967d",
   "metadata": {
    "editable": false,
    "slideshow": {
     "slide_type": ""
    },
    "tags": []
   },
   "source": [
    "[<- Prev (Schemas)](101_55_Schemas.ipynb) | [Next (ACDC Issuance) ->](101_65_ACDC_Issuance.ipynb)"
   ]
  }
 ],
 "metadata": {
  "kernelspec": {
   "display_name": "Python 3 (ipykernel)",
   "language": "python",
   "name": "python3"
  },
  "language_info": {
   "codemirror_mode": {
    "name": "ipython",
    "version": 3
   },
   "file_extension": ".py",
   "mimetype": "text/x-python",
   "name": "python",
   "nbconvert_exporter": "python",
   "pygments_lexer": "ipython3",
   "version": "3.12.9"
  }
 },
 "nbformat": 4,
 "nbformat_minor": 5
}
