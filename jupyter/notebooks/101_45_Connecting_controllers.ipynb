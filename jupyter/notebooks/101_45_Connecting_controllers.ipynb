{
 "cells": [
  {
   "cell_type": "markdown",
   "id": "8943f53e-6d8b-44c1-9fd6-dd69a024c5e0",
   "metadata": {
    "editable": false,
    "slideshow": {
     "slide_type": ""
    },
    "tags": []
   },
   "source": [
    "# KLI Operations: Connecting Controllers"
   ]
  },
  {
   "cell_type": "markdown",
   "id": "7bbe5b49-5c09-4274-bb2e-29362204ec78",
   "metadata": {
    "editable": false,
    "slideshow": {
     "slide_type": ""
    },
    "tags": []
   },
   "source": [
    "<div class=\"alert alert-primary\">\n",
    "  <b>🎯 OBJECTIVE</b><hr>\n",
    "Explain how to establish a secure, mutually authenticated connection between two KERI controllers using Out-of-Band Introductions (OOBIs) and challenge/response protocol to enhance trust.\n",
    "</div>"
   ]
  },
  {
   "cell_type": "markdown",
   "id": "ae3fdd7f-7e40-46fb-a4d6-0616a94dab39",
   "metadata": {
    "editable": false,
    "slideshow": {
     "slide_type": ""
    },
    "tags": []
   },
   "source": [
    "## Initial Controller Setup\n",
    "\n",
    "So far, we have only done basic operations with AIDs in an isolated way. That has limited use in practical applications; after all, establishing identity verification only becomes meaningful when interacting with others. In KERI, this interaction starts with controllers needing to discover and securely connect with each other.\n",
    "\n",
    "In our context, this means we need to establish connections between controllers. We've already seen a similar process when pairing transferable AIDs with witnesses. Now, let's explore how two controllers (a and b) can connect using Out-of-Band Introductions (OOBIs) and enhance trust with **challenge/response**.\n",
    "\n",
    "### Keystore Initialization\n",
    "For the example, you need to use two different keystores called `keystore-a` and `keystore-b`, both initialized using the `keystore_init_config.json` configuration. This means they will both load the same initial set of three witness contacts, providing witness endpoints where each controller's KEL (and thus key state) can be published and retrieved when identifiers are created using inception later.\n"
   ]
  },
  {
   "cell_type": "code",
   "execution_count": 1,
   "id": "52f18e1e-7d42-40df-be82-9a93a80c2020",
   "metadata": {
    "editable": false,
    "slideshow": {
     "slide_type": ""
    },
    "tags": []
   },
   "outputs": [
    {
     "name": "stdout",
     "output_type": "stream",
     "text": [
      "Proceeding with deletion of '/usr/local/var/keri/' without confirmation.\n",
      "✅ Successfully removed: /usr/local/var/keri/\n",
      "KERI Keystore created at: /usr/local/var/keri/ks/keystore_a\n",
      "KERI Database created at: /usr/local/var/keri/db/keystore_a\n",
      "KERI Credential Store created at: /usr/local/var/keri/reg/keystore_a\n",
      "\taeid: BD-1udeJaXFzKbSUFb6nhmndaLlMj-pdlNvNoN562h3z\n",
      "\n",
      "Loading 3 OOBIs...\n",
      "http://witness-demo:5642/oobi/BBilc4-L3tFUnfM_wJr4S4OJanAv_VmF_dJNN6vkf2Ha/controller?name=Wan&tag=witness succeeded\n",
      "http://witness-demo:5643/oobi/BLskRTInXnMxWaGqcpSyMgo0nYbalW99cGZESrz3zapM/controller?name=Wes&tag=witness succeeded\n",
      "http://witness-demo:5644/oobi/BIKKuvBwpmDVA4Ds-EpL5bt9OqPzWPja2LigFYZN2YfX/controller?name=Wil&tag=witness succeeded\n"
     ]
    }
   ],
   "source": [
    "# Imports and Utility functions\n",
    "from scripts.utils import clear_keri\n",
    "clear_keri()\n",
    "\n",
    "keystore_a_name=\"keystore_a\"\n",
    "keystore_a_passcode=\"xSLg286d4iWiRg2mzGYca\"\n",
    "salt_a=\"0ABeuT2dErMrqFE5Dmrnc2Bq\"\n",
    "\n",
    "!kli init --name {keystore_a_name} --passcode {keystore_a_passcode} --salt {salt_a} \\\n",
    "    --config-dir ./config \\\n",
    "    --config-file keystore_init_config.json\n"
   ]
  },
  {
   "cell_type": "code",
   "execution_count": 2,
   "id": "7fee7f1d-0800-4710-b63a-5388ae89b3b9",
   "metadata": {
    "editable": false,
    "slideshow": {
     "slide_type": ""
    },
    "tags": []
   },
   "outputs": [
    {
     "name": "stdout",
     "output_type": "stream",
     "text": [
      "KERI Keystore created at: /usr/local/var/keri/ks/keystore_b\n",
      "KERI Database created at: /usr/local/var/keri/db/keystore_b\n",
      "KERI Credential Store created at: /usr/local/var/keri/reg/keystore_b\n",
      "\taeid: BPJYwdaLcdcbB6pTpRal-IhbV_Vb8bD6vq_qiMFojHNG\n",
      "\n",
      "Loading 3 OOBIs...\n",
      "http://witness-demo:5642/oobi/BBilc4-L3tFUnfM_wJr4S4OJanAv_VmF_dJNN6vkf2Ha/controller?name=Wan&tag=witness succeeded\n",
      "http://witness-demo:5643/oobi/BLskRTInXnMxWaGqcpSyMgo0nYbalW99cGZESrz3zapM/controller?name=Wes&tag=witness succeeded\n",
      "http://witness-demo:5644/oobi/BIKKuvBwpmDVA4Ds-EpL5bt9OqPzWPja2LigFYZN2YfX/controller?name=Wil&tag=witness succeeded\n"
     ]
    }
   ],
   "source": [
    "keystore_b_name=\"keystore_b\"\n",
    "\n",
    "keystore_b_passcode=\"LLF1NYii5L7jTMvw4gDar\"\n",
    "\n",
    "salt_b=\"0ADzG7sbUyw-MYIoUyQe5wxB\"\n",
    "\n",
    "!kli init --name {keystore_b_name} --passcode {keystore_b_passcode} --salt {salt_b} \\\n",
    "    --config-dir ./config \\\n",
    "    --config-file keystore_init_config.json"
   ]
  },
  {
   "cell_type": "markdown",
   "id": "733dd784-d0ad-4dfb-9fb1-c511f553cf1e",
   "metadata": {
    "editable": false,
    "scrolled": true,
    "slideshow": {
     "slide_type": ""
    },
    "tags": []
   },
   "source": [
    "### Identifier Inception\n",
    "Now, you need AIDs to represent the controllers. Create one transferable AID in each keystore, aliased `aid_a` and `aid_b` respectively. Use the aid_inception_config.json file, which specifies the initial set of witnesses for both AIDs. (While they share witnesses here, controllers could use different witness sets)."
   ]
  },
  {
   "cell_type": "code",
   "execution_count": 3,
   "id": "42ff3d61-6311-4e56-84fd-5cb769a6632d",
   "metadata": {
    "editable": false,
    "slideshow": {
     "slide_type": ""
    },
    "tags": []
   },
   "outputs": [
    {
     "name": "stdout",
     "output_type": "stream",
     "text": [
      "Waiting for witness receipts...\n",
      "Prefix  EML-Hx1ivj6CSkPTM80xCqFmabG9l9ZrVxPe9omW2cWl\n",
      "\tPublic key 1:  DDiMxDbmRMjC0mDSkzlwEbYveGozxRXXIsFUo3ixQaU4\n",
      "\n"
     ]
    }
   ],
   "source": [
    "aid_a = \"aid_a\"\n",
    "\n",
    "!kli incept --name {keystore_a_name} \\\n",
    "    --passcode {keystore_a_passcode} \\\n",
    "    --alias {aid_a} \\\n",
    "    --file ./config/aid_inception_config.json\n"
   ]
  },
  {
   "cell_type": "code",
   "execution_count": 4,
   "id": "ab38ff44-b065-40c3-a964-d29df9e5bbac",
   "metadata": {
    "editable": false,
    "slideshow": {
     "slide_type": ""
    },
    "tags": []
   },
   "outputs": [
    {
     "name": "stdout",
     "output_type": "stream",
     "text": [
      "Waiting for witness receipts...\n",
      "Prefix  EAJR7SlFds3hQpH8kj8HySFRdhW6DcC7m9KdELNJIUma\n",
      "\tPublic key 1:  DHEa1ktRvZUjdRitkgJ5u3tNjitiw9Ba0cgz-fMhTS4c\n",
      "\n"
     ]
    }
   ],
   "source": [
    "aid_b = \"aid_b\"\n",
    "\n",
    "!kli incept --name {keystore_b_name} \\\n",
    "    --passcode {keystore_b_passcode} \\\n",
    "    --alias {aid_b} \\\n",
    "    --file ./config/aid_inception_config.json"
   ]
  },
  {
   "cell_type": "markdown",
   "id": "49b87bb6-c493-4859-8e29-9d5ffb80c3e2",
   "metadata": {
    "editable": false,
    "slideshow": {
     "slide_type": ""
    },
    "tags": []
   },
   "source": [
    "## OOBI Exchange for Discovery\n",
    "\n",
    "With your AIDs established, you need a way for them to find each other. Remember, each witness, in the current implementation, uses each of its witnesses both as a KEL publication mechanism and as a mailbox to receive messages on behalf of the controller. To tell other controllers where to find this witness mailbox, the local controller must provide a way to connect to the witness and the mailbox. This is where Out-of-Band Introductions (OOBIs) come in. You have used OOBIs before; to recapitulate, an OOBI is a specialized URL associated with an AID and how to reach one of its endpoints (like a witness or mailbox). \n"
   ]
  },
  {
   "cell_type": "markdown",
   "id": "d1888c81-22fa-4c99-a08e-9c64060e5f52",
   "metadata": {
    "editable": false,
    "slideshow": {
     "slide_type": ""
    },
    "tags": []
   },
   "source": [
    "### Generating OOBI URLs\n",
    "\n",
    "Use the `kli oobi generate` command to create OOBIs for your AIDs. Specify which AID (`--alias`) within which keystore (`--name`) should generate the OOBI, and importantly, the role associated with the endpoint included in the OOBI URL. Here, `--role witness` means the OOBI URL will point to one of the AID's designated witnesses, providing an indirect way to fetch the AID's KEL. This role also, as of the current implementation, also includes the witness acting as a mailbox. There is a separate `--role mailbox` that may be used yet is not covered in this particular training. Use `--role witness` for now.\n",
    "\n",
    "You will see a separate OOBI generated for each witness."
   ]
  },
  {
   "cell_type": "code",
   "execution_count": 5,
   "id": "754bc65b-97cd-4310-ad0b-ab1ddd45ac98",
   "metadata": {
    "editable": false,
    "slideshow": {
     "slide_type": ""
    },
    "tags": []
   },
   "outputs": [
    {
     "name": "stdout",
     "output_type": "stream",
     "text": [
      "http://witness-demo:5642/oobi/EML-Hx1ivj6CSkPTM80xCqFmabG9l9ZrVxPe9omW2cWl/witness\n",
      "http://witness-demo:5643/oobi/EML-Hx1ivj6CSkPTM80xCqFmabG9l9ZrVxPe9omW2cWl/witness\n"
     ]
    }
   ],
   "source": [
    "!kli oobi generate --name {keystore_a_name} \\\n",
    "    --passcode {keystore_a_passcode} \\\n",
    "    --alias {aid_a} \\\n",
    "    --role witness"
   ]
  },
  {
   "cell_type": "code",
   "execution_count": 6,
   "id": "871cc81f-97e7-4665-b482-05c24b1568be",
   "metadata": {
    "editable": false,
    "slideshow": {
     "slide_type": ""
    },
    "tags": []
   },
   "outputs": [
    {
     "name": "stdout",
     "output_type": "stream",
     "text": [
      "http://witness-demo:5642/oobi/EAJR7SlFds3hQpH8kj8HySFRdhW6DcC7m9KdELNJIUma/witness\n",
      "http://witness-demo:5643/oobi/EAJR7SlFds3hQpH8kj8HySFRdhW6DcC7m9KdELNJIUma/witness\n"
     ]
    }
   ],
   "source": [
    "!kli oobi generate --name {keystore_b_name} \\\n",
    "    --passcode {keystore_b_passcode} \\\n",
    "    --alias {aid_b} \\\n",
    "    --role witness"
   ]
  },
  {
   "cell_type": "markdown",
   "id": "60c2e661-8beb-446a-b87b-f1ccae111bdf",
   "metadata": {
    "editable": false,
    "slideshow": {
     "slide_type": ""
    },
    "tags": []
   },
   "source": [
    "Note that the command returns multiple OOBIs, one for each witness endpoint configured for the AID. Any of these can be used to initiate contact. For simplicity, we'll capture the first OOBI URL generated for each AID into the variables `oobi_a` and `oobi_b`."
   ]
  },
  {
   "cell_type": "code",
   "execution_count": 7,
   "id": "3a5f2d54-65d7-4ea8-a3c4-d71004d8485f",
   "metadata": {
    "editable": false,
    "slideshow": {
     "slide_type": ""
    },
    "tags": []
   },
   "outputs": [
    {
     "name": "stdout",
     "output_type": "stream",
     "text": [
      "OOBI A: http://witness-demo:5642/oobi/EML-Hx1ivj6CSkPTM80xCqFmabG9l9ZrVxPe9omW2cWl/witness\n",
      "OOBI B: http://witness-demo:5642/oobi/EAJR7SlFds3hQpH8kj8HySFRdhW6DcC7m9KdELNJIUma/witness\n"
     ]
    }
   ],
   "source": [
    "# Imports and Utility functions\n",
    "from scripts.utils import exec\n",
    "\n",
    "command_a = f\"kli oobi generate --name {keystore_a_name} --alias {aid_a} --passcode {keystore_a_passcode} --role witness\"\n",
    "oobi_a = exec(command_a)\n",
    "print(f\"OOBI A: {oobi_a}\")\n",
    "\n",
    "command_b = f\"kli oobi generate --name {keystore_b_name} --alias {aid_b} --passcode {keystore_b_passcode} --role witness\"\n",
    "oobi_b = exec(command_b)\n",
    "print(f\"OOBI B: {oobi_b}\")"
   ]
  },
  {
   "cell_type": "markdown",
   "id": "0ec183e5-3553-4001-9404-25e9b6858cda",
   "metadata": {
    "editable": false,
    "slideshow": {
     "slide_type": ""
    },
    "tags": []
   },
   "source": [
    "### Resolving OOBI URLs \n",
    "\n",
    "Now that `aid_a` and `aid_b` each have an OOBI, they need to resolve them. The `kli oobi resolve` command handles this.\n",
    "\n",
    "What happens when an OOBI is resolved? That depends on the type of OOBI. An OOBI resolution for HTTP OOBIs performs an HTTP GET request on the URL. Resolving controller or witness OOBIs returns the key event log for the AID specified in the OOBI URL. \n",
    "\n",
    "For example, when `keystore_a` resolves `oobi_b`, its uses the URL to contact the specified witness. The witness provides the KEL for `aid_b`. `keystore_a` then verifies the entire KEL cryptographically, ensuring its integrity and confirming the public keys associated with `aid_b`. A human-readable alias `--oobi-alias` is assigned for easy reference later. The same process happens when `keystore_b` resolves `oobi_a`.\n"
   ]
  },
  {
   "cell_type": "code",
   "execution_count": 8,
   "id": "6142d3a6-395d-4922-9f07-ec4c5cca362e",
   "metadata": {
    "editable": false,
    "slideshow": {
     "slide_type": ""
    },
    "tags": []
   },
   "outputs": [
    {
     "name": "stdout",
     "output_type": "stream",
     "text": [
      "http://witness-demo:5642/oobi/EAJR7SlFds3hQpH8kj8HySFRdhW6DcC7m9KdELNJIUma/witness resolved\n"
     ]
    }
   ],
   "source": [
    "!kli oobi resolve --name {keystore_a_name} \\\n",
    "    --passcode {keystore_a_passcode} \\\n",
    "    --oobi-alias {aid_b} \\\n",
    "    --oobi {oobi_b}"
   ]
  },
  {
   "cell_type": "code",
   "execution_count": 9,
   "id": "d7732372-f390-44bd-bf8b-12071028d35c",
   "metadata": {
    "editable": false,
    "slideshow": {
     "slide_type": ""
    },
    "tags": []
   },
   "outputs": [
    {
     "name": "stdout",
     "output_type": "stream",
     "text": [
      "http://witness-demo:5642/oobi/EML-Hx1ivj6CSkPTM80xCqFmabG9l9ZrVxPe9omW2cWl/witness resolved\n"
     ]
    }
   ],
   "source": [
    "!kli oobi resolve --name {keystore_b_name} \\\n",
    "    --passcode {keystore_b_passcode} \\\n",
    "    --oobi-alias {aid_a} \\\n",
    "    --oobi {oobi_a}"
   ]
  },
  {
   "cell_type": "markdown",
   "id": "a18091ae-a1a8-4d3b-a806-8d19e493b159",
   "metadata": {
    "editable": false,
    "slideshow": {
     "slide_type": ""
    },
    "tags": []
   },
   "source": [
    "### Listing contacts \n",
    "\n",
    "After successful resolution, the other AID appears in the keystore's contact list. You can verify this using `kli contacts list`. You'll see the newly resolved AID alongside the witnesses loaded during the keystore initialization. This confirms that the keystore now knows the other AID's identifier prefix and has verified its KEL."
   ]
  },
  {
   "cell_type": "code",
   "execution_count": null,
   "id": "44830a87-928c-407c-949c-72e3452cd810",
   "metadata": {
    "editable": false,
    "slideshow": {
     "slide_type": ""
    },
    "tags": []
   },
   "outputs": [],
   "source": [
    "!kli contacts list --name {keystore_a_name} \\\n",
    "    --passcode {keystore_a_passcode}"
   ]
  },
  {
   "cell_type": "markdown",
   "id": "d8ca023b-53ef-45c3-a8d1-9b358351a894",
   "metadata": {
    "editable": false,
    "slideshow": {
     "slide_type": ""
    },
    "tags": []
   },
   "source": [
    "## Authenticating Control with Challenge-Response\n",
    "\n",
    "Resolving an OOBI and verifying the KEL is a crucial first step. It confirms that the AID exists and that its key state history is cryptographically sound. However, it doesn't definitively prove that the entity you just connected with over the network is the legitimate controller you intend to interact with. You've verified the identifier, but not necessarily the authenticity of the current operator at the other end of the connection. Network connections can be vulnerable to Man-in-the-Middle (MITM) attacks or other deceptions.\n",
    "\n",
    "This is where the challenge-response mechanism becomes essential. It provides a way to verify that the controller on the other side genuinely possesses the private keys corresponding to the public keys in the KEL you just verified. This adds a critical layer of authentication on top of the OOBI discovery process.\n",
    "\n",
    "This is how it works:\n",
    "\n",
    "One party (the challenger, say `aid_b`) generates a random challenge phrase.\n",
    "The challenger sends this phrase to the other party (`aid_a`) through an Out-of-Band (OOB) channel. This means using a communication method different from the KERI network connection (e.g., a video call chat, phone call, secure email) to prevent an attacker on the  KERI network channel from intercepting or modifying the challenge. Using the same channel for both the challenge words and the response defeats the purpose of protecting against MITM attacks because MITM attacks occur \"in-band\" on a given channel so you must use a separate, \"out-of-band\" communication channel, such as a video chat, to exchange the challenge phrase.\n",
    "\n",
    "The challenged party (`aid_a`) receives the phrase and uses their current private key to sign it.\n",
    "`aid_a` then sends the original phrase and the resulting signature back to `aid_b` over the KERI connection, typically using general internet infrastructure.\n",
    "Next, `aid_b` verifies two things: \n",
    "- that the returned phrase matches the one originally sent, and \n",
    "- that the signature correctly verifies against the current signing public key associated with `aid_a` in its verified KEL.\n",
    "\n",
    "If the verification succeeds, `aid_b` now has strong assurance that they are communicating with the entity that truly controls `aid_a`'s private keys. This process is typically done mutually, with `aid_a` also challenging `aid_b` to gain strong confidence in the controller of `aid_b`'s keys.\n",
    "\n",
    "You can generate the challenge phrases using `kli challenge generate`. The code below will store them in variables for later use in the commands."
   ]
  },
  {
   "cell_type": "code",
   "execution_count": 10,
   "id": "fbf4c346-8962-4537-a941-cf3af58b03d4",
   "metadata": {
    "editable": false,
    "slideshow": {
     "slide_type": ""
    },
    "tags": []
   },
   "outputs": [
    {
     "name": "stdout",
     "output_type": "stream",
     "text": [
      "Example challenge phrase:\n",
      "assist glow differ key nature meat illegal clown space cattle again post\n",
      "\n",
      "Challenge phrases A and B:\n",
      "\n",
      "Challenge Phrase A: debate lesson twenty occur mercy error crawl image goat movie coral album\n",
      "Challenge Phrase B: humble tuna iron fit broccoli drink enter ethics engine scheme relief renew\n"
     ]
    }
   ],
   "source": [
    "print(\"Example challenge phrase:\")\n",
    "!kli challenge generate --out string\n",
    "\n",
    "print(\"\\nChallenge phrases A and B:\\n\")\n",
    "phrase_a = exec(\"kli challenge generate --out string\")\n",
    "print(f\"Challenge Phrase A: {phrase_a}\")\n",
    "\n",
    "phrase_b = exec(\"kli challenge generate --out string\")\n",
    "print(f\"Challenge Phrase B: {phrase_b}\")"
   ]
  },
  {
   "cell_type": "markdown",
   "id": "f1294404-96a9-4c1c-ab26-d105e8b85b14",
   "metadata": {
    "editable": false,
    "slideshow": {
     "slide_type": ""
    },
    "tags": []
   },
   "source": [
    "Now, simulate the OOB exchange: `aid_b` sends `phrase_b` to `aid_a`, and `aid_a` sends `phrase_a` to `aid_b`. Each party then uses `kli challenge respond` to sign the phrase they received and `kli challenge verify` to check the response from the other party.\n"
   ]
  },
  {
   "cell_type": "code",
   "execution_count": 11,
   "id": "f647e8b1-9fc5-4e0d-a6df-2109c299f533",
   "metadata": {
    "editable": false,
    "slideshow": {
     "slide_type": ""
    },
    "tags": []
   },
   "outputs": [
    {
     "name": "stdout",
     "output_type": "stream",
     "text": [
      "debate lesson twenty occur mercy error crawl image goat movie coral album\n"
     ]
    }
   ],
   "source": [
    "print(phrase_a)\n",
    "\n",
    "!kli challenge respond --name {keystore_b_name} \\\n",
    "    --passcode {keystore_b_passcode} \\\n",
    "    --alias {aid_b} \\\n",
    "    --words \"{phrase_a}\" \\\n",
    "    --recipient {aid_a}"
   ]
  },
  {
   "cell_type": "code",
   "execution_count": 12,
   "id": "375046c1-2aa8-4ab9-a371-f98a602148c2",
   "metadata": {
    "editable": false,
    "slideshow": {
     "slide_type": ""
    },
    "tags": []
   },
   "outputs": [
    {
     "name": "stdout",
     "output_type": "stream",
     "text": [
      "Checking mailboxes for any challenge responses..\n",
      "\n",
      "Signer aid_b successfully responded to challenge words: '['debate', 'lesson', 'twenty', 'occur', 'mercy', 'error', 'crawl', 'image', 'goat', 'movie', 'coral', 'album']'\n",
      "\n"
     ]
    }
   ],
   "source": [
    "!kli challenge verify --name {keystore_a_name}  \\\n",
    "    --passcode {keystore_a_passcode} \\\n",
    "    --alias {aid_a} \\\n",
    "    --words \"{phrase_a}\" \\\n",
    "    --signer {aid_b}"
   ]
  },
  {
   "cell_type": "code",
   "execution_count": 13,
   "id": "b5523151-2d2b-4c3a-9649-4bc0ae13efa9",
   "metadata": {
    "editable": false,
    "slideshow": {
     "slide_type": ""
    },
    "tags": []
   },
   "outputs": [
    {
     "name": "stdout",
     "output_type": "stream",
     "text": [
      "humble tuna iron fit broccoli drink enter ethics engine scheme relief renew\n"
     ]
    }
   ],
   "source": [
    "print(phrase_b)\n",
    "\n",
    "!kli challenge respond --name {keystore_a_name} \\\n",
    "    --passcode {keystore_a_passcode} \\\n",
    "    --alias {aid_a} \\\n",
    "    --words \"{phrase_b}\" \\\n",
    "    --recipient {aid_b}"
   ]
  },
  {
   "cell_type": "code",
   "execution_count": 14,
   "id": "76f551d8-d04e-41c1-8f82-b9dba5f88c86",
   "metadata": {
    "editable": false,
    "slideshow": {
     "slide_type": ""
    },
    "tags": []
   },
   "outputs": [
    {
     "name": "stdout",
     "output_type": "stream",
     "text": [
      "Checking mailboxes for any challenge responses..\n",
      "\n",
      "Signer aid_a successfully responded to challenge words: '['humble', 'tuna', 'iron', 'fit', 'broccoli', 'drink', 'enter', 'ethics', 'engine', 'scheme', 'relief', 'renew']'\n",
      "\n"
     ]
    }
   ],
   "source": [
    "!kli challenge verify --name {keystore_b_name} \\\n",
    "    --passcode {keystore_b_passcode} \\\n",
    "    --alias {aid_b} \\\n",
    "    --words \"{phrase_b}\" \\\n",
    "    --signer {aid_a}"
   ]
  },
  {
   "cell_type": "markdown",
   "id": "c582f3e1-2306-4f5a-bd14-12c9cc0de874",
   "metadata": {
    "editable": false,
    "slideshow": {
     "slide_type": ""
    },
    "tags": []
   },
   "source": [
    "Successful verification on both sides mutually establishes cryptographically strong authenticated control of the identifiers on both sides of the interaction. This significantly increases the trust level between the two controllers far beyond the verifiability granted by sharing key histories (KELs) during the initial connection through mutual OOBI resolution. After the challenge response and verification process each party knows they are interacting with the legitimate key holders for each respective AID."
   ]
  },
  {
   "cell_type": "markdown",
   "id": "c2adea02-d2fb-4ea1-9e3b-8cca6d6bc48e",
   "metadata": {
    "editable": false,
    "slideshow": {
     "slide_type": ""
    },
    "tags": []
   },
   "source": [
    "<div class=\"alert alert-primary\">\n",
    "  <b>📝 SUMMARY</b><hr>\n",
    "After initial discovery (often via OOBIs), KERI controllers can enhance trust by verifying active control of private keys using a challenge-response protocol. This involves each controller generating a unique challenge phrase (kli challenge generate). One controller (aid_a) then responds to the other's challenge (phrase_b) by signing it (kli challenge respond), and the second controller (aid_b) verifies this response (kli challenge verify). This process is repeated reciprocally. Successful verification by both parties confirms they are interacting with the legitimate key holders for each AID.\n",
    "</div>"
   ]
  },
  {
   "cell_type": "markdown",
   "id": "bc9efdc1-17c2-418c-8aed-9992ace7178e",
   "metadata": {
    "editable": false,
    "slideshow": {
     "slide_type": ""
    },
    "tags": []
   },
   "source": [
    "[<- Prev (Witnesses)](101_40_Witnesses.ipynb) | [Next (Delegated AIDs) ->](101_47_Delegated_AIDs.ipynb)"
   ]
  }
 ],
 "metadata": {
  "kernelspec": {
   "display_name": "Python 3 (ipykernel)",
   "language": "python",
   "name": "python3"
  },
  "language_info": {
   "codemirror_mode": {
    "name": "ipython",
    "version": 3
   },
   "file_extension": ".py",
   "mimetype": "text/x-python",
   "name": "python",
   "nbconvert_exporter": "python",
   "pygments_lexer": "ipython3",
   "version": "3.12.9"
  }
 },
 "nbformat": 4,
 "nbformat_minor": 5
}
