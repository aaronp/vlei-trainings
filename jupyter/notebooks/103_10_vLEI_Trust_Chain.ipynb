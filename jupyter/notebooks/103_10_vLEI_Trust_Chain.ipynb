{
 "cells": [
  {
   "cell_type": "markdown",
   "id": "4b67d8c2-a025-4332-9a2b-3c7490d2d41b",
   "metadata": {
    "editable": false,
    "slideshow": {
     "slide_type": ""
    },
    "tags": []
   },
   "source": [
    "# vLEI Trust Chain"
   ]
  },
  {
   "cell_type": "markdown",
   "id": "3451bbfa-94b1-41c3-8020-74d07e1580d2",
   "metadata": {
    "editable": false,
    "slideshow": {
     "slide_type": ""
    },
    "tags": []
   },
   "source": [
    "<div class=\"alert alert-primary\">\n",
    "<b>🎯 OBJECTIVE</b><hr>\n",
    "To provide a practical, hands-on demonstration of the vLEI trust chain using SignifyTS. \n",
    "</div>"
   ]
  },
  {
   "cell_type": "markdown",
   "id": "3cd58132-556a-4a57-b739-3c18062aa2e5",
   "metadata": {
    "editable": false,
    "slideshow": {
     "slide_type": ""
    },
    "tags": []
   },
   "source": [
    "## The simplified vLEI Trust Chain \n",
    "\n",
    "To clearly explain the fundamentals of vLEI credentials and schemas, this notebook presents a simplified model of the credential issuance hierarchy. We will trace the flow of authority and the process of creating chained credentials using official vLEI schema definitions. For the sake of clarity, we have excluded the more advanced topics of multisignatures and delegated identifier structures, which are key components of the complete vLEI production trust chain. A practical, in-depth example of these advanced features can be found in the **[qvi-software repository](https://github.com/GLEIF-IT/qvi-software/tree/main/qvi-workflow)**.\n",
    "\n",
    "The outcome of this training is to produce a verification chain similar to the one shown below except that all identifiers are single signature identifiers instead of multi-signature identifiers.\n",
    "\n",
    "![vLEI Verification Chain](./images/vlei-verification-chain.png)"
   ]
  },
  {
   "cell_type": "markdown",
   "id": "408b48f9-c541-42b7-b9b9-4c496fa36ba4",
   "metadata": {
    "editable": false,
    "slideshow": {
     "slide_type": ""
    },
    "tags": []
   },
   "source": [
    "## Setup Phase\n",
    "\n",
    "The first step is to create the four distinct identity clients that represent the actors in our scenario: GLEIF, a Qualified vLEI Issuer (QVI), a Legal Entity (LE), and a Role holder. We will establish secure connections between all relevant parties using OOBIs and create the necessary credential registries for the issuers."
   ]
  },
  {
   "cell_type": "code",
   "execution_count": null,
   "id": "6a0155e6-7190-499f-8e6c-0b78c08b8827",
   "metadata": {
    "editable": false,
    "slideshow": {
     "slide_type": ""
    },
    "tags": []
   },
   "outputs": [],
   "source": [
    "import { randomPasscode, Saider} from 'npm:signify-ts@0.3.0-rc1';\n",
    "import { \n",
    "  initializeSignify, initializeAndConnectClient, createNewAID, addEndRoleForAID,\n",
    "  generateOOBI, resolveOOBI, createCredentialRegistry, issueCredential,\n",
    "  ipexGrantCredential, getCredentialState, waitForAndGetNotification,\n",
    "  ipexAdmitGrant, markNotificationRead,\n",
    "  DEFAULT_IDENTIFIER_ARGS, ROLE_AGENT, IPEX_GRANT_ROUTE, IPEX_ADMIT_ROUTE, SCHEMA_SERVER_HOST,\n",
    "  prTitle, prMessage, prContinue, prAlert, isServiceHealthy, sleep\n",
    "} from './scripts_ts/utils.ts';\n",
    "\n",
    "initializeSignify()\n",
    "\n",
    "// Create clients, AIDs and OOBIs.\n",
    "prTitle(\"Creating clients setup\")\n",
    "\n",
    "// Fixed Bran to keep a consistent root of trust (DO NOT MODIFY or else validation with the Sally verifier will break)\n",
    "const gleifBran = \"Dm8Tmz05CF6_JLX9sVlFe\" \n",
    "const gleifAlias = 'gleif'\n",
    "const { client: gleifClient } = await initializeAndConnectClient(gleifBran)\n",
    "let gleifPrefix\n",
    "\n",
    "// GLEIF GEDA (GLEIF External Delegated AID) setup\n",
    "// uses try/catch to permit reusing existing GEDA upon re-run of this test file.\n",
    "try{\n",
    "    const gleifAid = await gleifClient.identifiers().get(gleifAlias);\n",
    "    gleifPrefix = gleifAid.prefix\n",
    "} catch {\n",
    "    prMessage(\"Creating GLEIF AID\")\n",
    "    const { aid: newAid} = await createNewAID(gleifClient, gleifAlias, DEFAULT_IDENTIFIER_ARGS);\n",
    "    await addEndRoleForAID(gleifClient, gleifAlias, ROLE_AGENT); \n",
    "    gleifPrefix = newAid.i\n",
    "}\n",
    "const gleifOOBI = await generateOOBI(gleifClient, gleifAlias, ROLE_AGENT);\n",
    "\n",
    "prMessage(`GLEIF Prefix: ${gleifPrefix}`)\n",
    "\n",
    "// QVI\n",
    "const qviBran = randomPasscode()\n",
    "const qviAlias = 'qvi'\n",
    "const { client: qviClient } = await initializeAndConnectClient(qviBran)\n",
    "const { aid: qviAid} = await createNewAID(qviClient, qviAlias, DEFAULT_IDENTIFIER_ARGS);\n",
    "await addEndRoleForAID(qviClient, qviAlias, ROLE_AGENT);\n",
    "const qviOOBI = await generateOOBI(qviClient, qviAlias, ROLE_AGENT);\n",
    "const qviPrefix = qviAid.i\n",
    "prMessage(`QVI Prefix: ${qviPrefix}`)\n",
    "\n",
    "// LE\n",
    "const leBran = randomPasscode()\n",
    "const leAlias = 'le'\n",
    "const { client: leClient } = await initializeAndConnectClient(leBran)\n",
    "const { aid: leAid} = await createNewAID(leClient, leAlias, DEFAULT_IDENTIFIER_ARGS);\n",
    "await addEndRoleForAID(leClient, leAlias, ROLE_AGENT);\n",
    "const leOOBI = await generateOOBI(leClient, leAlias, ROLE_AGENT);\n",
    "const lePrefix = leAid.i\n",
    "prMessage(`LE Prefix: ${lePrefix}`)\n",
    "\n",
    "// Role Holder\n",
    "const roleBran = randomPasscode()\n",
    "const roleAlias = 'role'\n",
    "const { client: roleClient } = await initializeAndConnectClient(roleBran)\n",
    "const { aid: roleAid} = await createNewAID(roleClient, roleAlias, DEFAULT_IDENTIFIER_ARGS);\n",
    "await addEndRoleForAID(roleClient, roleAlias, ROLE_AGENT);\n",
    "const roleOOBI = await generateOOBI(roleClient, roleAlias, ROLE_AGENT);\n",
    "const rolePrefix = roleAid.i\n",
    "prMessage(`ROLE Prefix: ${rolePrefix}`)\n",
    "\n",
    "// Client OOBI resolution (Create contacts)\n",
    "prTitle(\"Resolving OOBIs\")\n",
    "\n",
    "await Promise.all([\n",
    "    resolveOOBI(gleifClient, qviOOBI, qviAlias),\n",
    "    resolveOOBI(qviClient, gleifOOBI, gleifAlias),\n",
    "    resolveOOBI(qviClient, leOOBI, leAlias),\n",
    "    resolveOOBI(qviClient, roleOOBI, roleAlias),\n",
    "    resolveOOBI(leClient, gleifOOBI, gleifAlias),\n",
    "    resolveOOBI(leClient, qviOOBI, qviAlias),\n",
    "    resolveOOBI(leClient, roleOOBI, roleAlias),\n",
    "    resolveOOBI(roleClient, gleifOOBI, gleifAlias),\n",
    "    resolveOOBI(roleClient, leOOBI, leAlias),\n",
    "    resolveOOBI(roleClient, qviOOBI, qviAlias)\n",
    "]);\n",
    "\n",
    "// Create Credential Registries\n",
    "prTitle(\"Creating Credential Registries\")\n",
    "\n",
    "// GLEIF GEDA Registry\n",
    "// uses try/catch to permit reusing existing GEDA upon re-run of this test file.\n",
    "let gleifRegistrySaid\n",
    "try{\n",
    "    const registries = await gleifClient.registries().list(gleifAlias);\n",
    "    gleifRegistrySaid = registries[0].regk\n",
    "} catch {\n",
    "    prMessage(\"Creating GLEIF Registry\")\n",
    "    const { registrySaid: newRegistrySaid } = await createCredentialRegistry(gleifClient, gleifAlias, 'gleifRegistry')\n",
    "    gleifRegistrySaid = newRegistrySaid\n",
    "}\n",
    "// QVI and LE registry\n",
    "const { registrySaid: qviRegistrySaid } = await createCredentialRegistry(qviClient, qviAlias, 'qviRegistry')\n",
    "const { registrySaid: leRegistrySaid } = await createCredentialRegistry(leClient, leAlias, 'leRegistry')\n",
    "\n",
    "prContinue()"
   ]
  },
  {
   "cell_type": "markdown",
   "id": "b824d8ee-ab2c-4fc1-b874-9d4b32b189ad",
   "metadata": {
    "editable": false,
    "slideshow": {
     "slide_type": ""
    },
    "tags": []
   },
   "source": [
    "## Schema Resolution\n",
    "\n",
    "For any party to issue or verify a credential, they must first have a copy of its corresponding schema. The schemas define the structure, attributes, and rules for each type of vLEI credential. In this ecosystem, schemas are identified by a SAID and are hosted on a schema server. All participants will resolve the OOBIs for the schemas they need to interact with.\n",
    "\n",
    "The schemas used in this demonstration are:\n",
    "\n",
    "- **QVI Credential**: Issued by GLEIF to a QVI, authorizing it to issue vLEI credentials.\n",
    "- **vLEI Credential**: Issued by a QVI to a Legal Entity, representing its digital identity.\n",
    "- **OOR Auth Credential**: An authorization issued by a Legal Entity to a QVI, permitting the QVI to issue a specific OOR credential on its behalf.\n",
    "- **OOR Credential**: Issued to an individual in an official capacity (e.g., CEO), based on an OOR authorization.\n",
    "- **ECR Auth Credential**: An authorization issued by a Legal Entity, permitting another party (like a QVI) to issue an ECR credential on its behalf.\n",
    "- **ECR Credential**: Issued to an individual for a specific business role or context (e.g., Project Manager), based on an ECR authorization or issued directly by the LE."
   ]
  },
  {
   "cell_type": "markdown",
   "id": "5c228eb5-6545-4b2b-b1fe-086ad3a07f8f",
   "metadata": {
    "editable": false,
    "slideshow": {
     "slide_type": ""
    },
    "tags": []
   },
   "source": [
    "<div class=\"alert alert-info\">\n",
    "<b>ℹ️ NOTE</b><hr>\n",
    "For this demonstration, the vLEI schemas are pre-loaded into our local schema server, and their SAIDs are known beforehand.\n",
    "</div>"
   ]
  },
  {
   "cell_type": "code",
   "execution_count": null,
   "id": "9154418e-2e08-470f-8afe-b0658945893e",
   "metadata": {
    "editable": false,
    "slideshow": {
     "slide_type": ""
    },
    "tags": []
   },
   "outputs": [],
   "source": [
    "// Schemas\n",
    "\n",
    "// vLEI Schema SAIDs. These are well known schemas. Already preloaded\n",
    "const QVI_SCHEMA_SAID = 'EBfdlu8R27Fbx-ehrqwImnK-8Cm79sqbAQ4MmvEAYqao';\n",
    "const LE_SCHEMA_SAID = 'ENPXp1vQzRF6JwIuS-mp2U8Uf1MoADoP_GqQ62VsDZWY';\n",
    "const ECR_AUTH_SCHEMA_SAID = 'EH6ekLjSr8V32WyFbGe1zXjTzFs9PkTYmupJ9H65O14g';\n",
    "const ECR_SCHEMA_SAID = 'EEy9PkikFcANV1l7EHukCeXqrzT1hNZjGlUk7wuMO5jw';\n",
    "const OOR_AUTH_SCHEMA_SAID = 'EKA57bKBKxr_kN7iN5i7lMUxpMG-s19dRcmov1iDxz-E';\n",
    "const OOR_SCHEMA_SAID = 'EBNaNu-M9P5cgrnfl2Fvymy4E_jvxxyjb70PRtiANlJy';\n",
    "\n",
    "const QVI_SCHEMA_URL = `${SCHEMA_SERVER_HOST}/oobi/${QVI_SCHEMA_SAID}`;\n",
    "const LE_SCHEMA_URL = `${SCHEMA_SERVER_HOST}/oobi/${LE_SCHEMA_SAID}`;\n",
    "const ECR_AUTH_SCHEMA_URL = `${SCHEMA_SERVER_HOST}/oobi/${ECR_AUTH_SCHEMA_SAID}`;\n",
    "const ECR_SCHEMA_URL = `${SCHEMA_SERVER_HOST}/oobi/${ECR_SCHEMA_SAID}`;\n",
    "const OOR_AUTH_SCHEMA_URL = `${SCHEMA_SERVER_HOST}/oobi/${OOR_AUTH_SCHEMA_SAID}`;\n",
    "const OOR_SCHEMA_URL = `${SCHEMA_SERVER_HOST}/oobi/${OOR_SCHEMA_SAID}`;\n",
    "\n",
    "prTitle(\"Schema OOBIs\")\n",
    "prMessage(`QVI_SCHEMA_URL:\\n  - ${QVI_SCHEMA_URL}`)\n",
    "prMessage(`LE_SCHEMA_URL:\\n  - ${LE_SCHEMA_URL}`)\n",
    "prMessage(`ECR_AUTH_SCHEMA_URL:\\n  - ${ECR_AUTH_SCHEMA_URL}`)\n",
    "prMessage(`ECR_SCHEMA_URL:\\n  - ${ECR_SCHEMA_URL}`)\n",
    "prMessage(`OOR_AUTH_SCHEMA_URL:\\n  - ${OOR_AUTH_SCHEMA_URL}`)\n",
    "prMessage(`OOR_SCHEMA_URL:\\n  - ${OOR_SCHEMA_URL}`)\n",
    "\n",
    "prContinue()"
   ]
  },
  {
   "cell_type": "markdown",
   "id": "8dc9abf2-a97a-44d6-af15-d4588c5dcbab",
   "metadata": {
    "editable": false,
    "slideshow": {
     "slide_type": ""
    },
    "tags": []
   },
   "source": [
    "All clients now resolve all the necessary schemas in order to have knowledge of the schemas they use."
   ]
  },
  {
   "cell_type": "code",
   "execution_count": null,
   "id": "32282455-ce3e-4ac3-8cd5-ff58335e067c",
   "metadata": {
    "editable": false,
    "slideshow": {
     "slide_type": ""
    },
    "tags": []
   },
   "outputs": [],
   "source": [
    "prTitle(\"Resolving Schemas\")\n",
    "await Promise.all([\n",
    "    resolveOOBI(gleifClient, QVI_SCHEMA_URL),\n",
    "    \n",
    "    resolveOOBI(qviClient, QVI_SCHEMA_URL),\n",
    "    resolveOOBI(qviClient, LE_SCHEMA_URL),\n",
    "    resolveOOBI(qviClient, ECR_AUTH_SCHEMA_URL),\n",
    "    resolveOOBI(qviClient, ECR_SCHEMA_URL),\n",
    "    resolveOOBI(qviClient, OOR_AUTH_SCHEMA_URL),\n",
    "    resolveOOBI(qviClient, OOR_SCHEMA_URL),\n",
    "    \n",
    "    resolveOOBI(leClient, QVI_SCHEMA_URL),\n",
    "    resolveOOBI(leClient, LE_SCHEMA_URL),\n",
    "    resolveOOBI(leClient, ECR_AUTH_SCHEMA_URL),\n",
    "    resolveOOBI(leClient, ECR_SCHEMA_URL),\n",
    "    resolveOOBI(leClient, OOR_AUTH_SCHEMA_URL),\n",
    "    resolveOOBI(leClient, OOR_SCHEMA_URL),\n",
    "    \n",
    "    resolveOOBI(roleClient, QVI_SCHEMA_URL),\n",
    "    resolveOOBI(roleClient, LE_SCHEMA_URL),\n",
    "    resolveOOBI(roleClient, ECR_AUTH_SCHEMA_URL),\n",
    "    resolveOOBI(roleClient, ECR_SCHEMA_URL),\n",
    "    resolveOOBI(roleClient, OOR_AUTH_SCHEMA_URL),\n",
    "    resolveOOBI(roleClient, OOR_SCHEMA_URL),\n",
    "]);\n",
    "\n",
    "prContinue()"
   ]
  },
  {
   "cell_type": "markdown",
   "id": "bb01852b-55cf-4d29-8285-51e44b614031",
   "metadata": {
    "editable": false,
    "slideshow": {
     "slide_type": ""
    },
    "tags": []
   },
   "source": [
    "## Credential Issuance Chain\n",
    "The core of this demonstration is to build the vLEI trust chain credential by credential. The test follows the official vLEI ecosystem hierarchy, showing how authority is passed down from GLEIF to a QVI, then to a Legal Entity, and finally to an individual Role Holder.\n",
    "\n",
    "The issuance flow is as follows:\n",
    "\n",
    "- **QVI Credential**: GLEIF issues a \"Qualified vLEI Issuer\" credential to the QVI.\n",
    "- **LE Credential**: The QVI issues a \"Legal Entity\" credential to the LE.\n",
    "- **OOR Auth Credential**: The LE issues an \"Official Organizational Role\" authorization to the QVI.\n",
    "- **OOR Credential**: The QVI, using the authorization from the previous step, issues the final OOR credential to the Role holder.\n",
    "- **ECR Auth Credential**: The LE issues an \"Engagement Context Role\" authorization credential to the QVI.\n",
    "- **ECR Credential (Path 1)**: The LE directly issues an ECR credential to the Role holder.\n",
    "- **ECR Credential (Path 2)**: The QVI issues another ECR credential to the same Role holder, this time using the ECR authorization credential.\n",
    "\n",
    "The key to this chain of trust lies within the `e` (edges) block of each ACDC. This block contains cryptographic pointers to the credential that authorizes the issuance of the current one. We will examine these edge blocks at each step to see how the chain is formed."
   ]
  },
  {
   "cell_type": "markdown",
   "id": "0dfaa1bd-04bc-4603-813f-fc4a5fa97e6a",
   "metadata": {
    "editable": false,
    "slideshow": {
     "slide_type": ""
    },
    "tags": []
   },
   "source": [
    "### Step 1: QVI Credential - GLEIF issues a Qualified vLEI Issuer credential to the QVI\n",
    "\n",
    "The chain of trust begins with GLEIF, the root of the ecosystem, issuing a credential to a QVI. This credential attests that the QVI is qualified and authorized to issue vLEI credentials to other legal entities. As the first link in our chain, this credential does not have an edge block pointing to a prior authority.\n",
    "\n"
   ]
  },
  {
   "cell_type": "code",
   "execution_count": null,
   "id": "29470ae5-ae98-4b45-b182-4531e0c35275",
   "metadata": {
    "editable": false,
    "slideshow": {
     "slide_type": ""
    },
    "tags": []
   },
   "outputs": [],
   "source": [
    "// QVI LEI (Arbitrary value)\n",
    "const qviData = {\n",
    "    LEI: '254900OPPU84GM83MG36',\n",
    "};\n",
    "\n",
    "// GLEIF - Issue credential\n",
    "prTitle(\"Issuing Credential\")\n",
    "const { credentialSaid: credentialSaid} = await issueCredential(\n",
    "    gleifClient, gleifAlias, gleifRegistrySaid, \n",
    "    QVI_SCHEMA_SAID, \n",
    "    qviPrefix, \n",
    "    qviData\n",
    ")\n",
    "\n",
    "// GLEIF - get credential\n",
    "const qviCredential = await gleifClient.credentials().get(credentialSaid);\n",
    "\n",
    "// GLEIF - Ipex grant\n",
    "prTitle(\"Granting Credential\")\n",
    "const grantResponse = await ipexGrantCredential(\n",
    "    gleifClient, gleifAlias, \n",
    "    qviPrefix, \n",
    "    qviCredential\n",
    ")\n",
    "\n",
    "// QVI - Wait for grant notification\n",
    "const grantNotifications = await waitForAndGetNotification(qviClient, IPEX_GRANT_ROUTE)\n",
    "const grantNotification = grantNotifications[0]\n",
    "\n",
    "// QVI - Admit Grant\n",
    "prTitle(\"Admitting Grant\")\n",
    "const admitResponse = await ipexAdmitGrant(\n",
    "    qviClient, qviAlias,\n",
    "    gleifPrefix, \n",
    "    grantNotification.a.d\n",
    ")\n",
    "\n",
    "// QVI - Mark notification\n",
    "await markNotificationRead(qviClient, grantNotification.i)\n",
    "\n",
    "// GLEIF - Wait for admit notification\n",
    "const admitNotifications = await waitForAndGetNotification(gleifClient, IPEX_ADMIT_ROUTE)\n",
    "const admitNotification = admitNotifications[0]\n",
    "\n",
    "// GLEIF - Mark notification\n",
    "await markNotificationRead(gleifClient, admitNotification.i)\n",
    "\n",
    "prContinue()"
   ]
  },
  {
   "cell_type": "markdown",
   "id": "439ebc26-c0f7-4fb7-a010-0fe63e4fbcdf",
   "metadata": {
    "editable": false,
    "slideshow": {
     "slide_type": ""
    },
    "tags": []
   },
   "source": [
    "### Step 2: LE Credential - QVI issues a Legal Entity credential to the LE\n",
    "\n",
    "Now that the QVI is authorized, it can issue a vLEI credential to a Legal Entity. To maintain the chain of trust, this new LE Credential must be cryptographically linked back to the QVI's authorizing credential.\n",
    "\n",
    "This link is created in the `leEdge` object.\n",
    "\n",
    "- `n: qviCredential.sad.d`: The `n` field (node) is populated with the SAID of the QVI's own credential, issued in Step 1. This is the direct cryptographic pointer.\n",
    "- `s: qviCredential.sad.s`: The `s` field specifies the required schema SAID of the credential being pointed to, ensuring the link is to the correct type of credential.\n",
    "\n",
    "The `Saider.saidify()` function is a utility that makes this edge block itself verifiable. It calculates a cryptographic digest (SAID) of the edge's content and embeds that digest back into the block under the `d` field."
   ]
  },
  {
   "cell_type": "code",
   "execution_count": null,
   "id": "735a6c59-c9c7-4d1c-8d92-2a5efb12d6a5",
   "metadata": {
    "editable": false,
    "slideshow": {
     "slide_type": ""
    },
    "tags": []
   },
   "outputs": [],
   "source": [
    "// Credential Data\n",
    "const leData = {\n",
    "    LEI: '875500ELOZEL05BVXV37',\n",
    "};\n",
    "\n",
    "const leEdge = Saider.saidify({\n",
    "    d: '',\n",
    "    qvi: {\n",
    "        n: qviCredential.sad.d,\n",
    "        s: qviCredential.sad.s,\n",
    "    },\n",
    "})[1];\n",
    "\n",
    "const leRules = Saider.saidify({\n",
    "    d: '',\n",
    "    usageDisclaimer: {\n",
    "        l: 'Usage of a valid, unexpired, and non-revoked vLEI Credential, as defined in the associated Ecosystem Governance Framework, does not assert that the Legal Entity is trustworthy, honest, reputable in its business dealings, safe to do business with, or compliant with any laws or that an implied or expressly intended purpose will be fulfilled.',\n",
    "    },\n",
    "    issuanceDisclaimer: {\n",
    "        l: 'All information in a valid, unexpired, and non-revoked vLEI Credential, as defined in the associated Ecosystem Governance Framework, is accurate as of the date the validation process was complete. The vLEI Credential has been issued to the legal entity or person named in the vLEI Credential as the subject; and the qualified vLEI Issuer exercised reasonable care to perform the validation process set forth in the vLEI Ecosystem Governance Framework.',\n",
    "    },\n",
    "})[1];\n",
    "\n",
    "// qvi - Issue credential\n",
    "prTitle(\"Issuing Credential\")\n",
    "const { credentialSaid: credentialSaid} = await issueCredential(\n",
    "    qviClient, qviAlias, qviRegistrySaid, \n",
    "    LE_SCHEMA_SAID, \n",
    "    lePrefix,\n",
    "    leData, leEdge, leRules\n",
    ")\n",
    "\n",
    "// qvi - get credential (with all its data)\n",
    "prTitle(\"Granting Credential\")\n",
    "const leCredential = await qviClient.credentials().get(credentialSaid);\n",
    "\n",
    "// qvi - Ipex grant\n",
    "const grantResponse = await ipexGrantCredential(\n",
    "    qviClient, qviAlias, \n",
    "    lePrefix, \n",
    "    leCredential\n",
    ")\n",
    "\n",
    "// LE - Wait for grant notification\n",
    "const grantNotifications = await waitForAndGetNotification(leClient, IPEX_GRANT_ROUTE)\n",
    "const grantNotification = grantNotifications[0]\n",
    "\n",
    "// LE - Admit Grant\n",
    "prTitle(\"Admitting Grant\")\n",
    "const admitResponse = await ipexAdmitGrant(\n",
    "    leClient, leAlias,\n",
    "    qviPrefix, \n",
    "    grantNotification.a.d\n",
    ")\n",
    "\n",
    "// LE - Mark notification\n",
    "await markNotificationRead(leClient, grantNotification.i)\n",
    "\n",
    "// QVI - Wait for admit notification\n",
    "const admitNotifications = await waitForAndGetNotification(qviClient, IPEX_ADMIT_ROUTE)\n",
    "const admitNotification = admitNotifications[0]\n",
    "\n",
    "// QVI - Mark notification\n",
    "await markNotificationRead(qviClient, admitNotification.i)\n",
    "\n",
    "prContinue()"
   ]
  },
  {
   "cell_type": "markdown",
   "id": "fd9e55b8-de27-4d35-869e-8b10e9ba021e",
   "metadata": {
    "editable": false,
    "slideshow": {
     "slide_type": ""
    },
    "tags": []
   },
   "source": [
    "### Step 3: OOR AUTH Credential - LE issues an Official Organizational Role authorization to QVI\n",
    "\n",
    "Before a QVI can issue a credential for an official role (like CEO or Director) on behalf of a Legal Entity, it must first receive explicit authorization. This step shows the LE issuing an \"OOR Authorization\" credential to the QVI.\n",
    "\n",
    "The edge block here links back to the `leCredential` from **Step 2**, proving that the entity granting this authorization is a valid Legal Entity within the vLEI ecosystem."
   ]
  },
  {
   "cell_type": "code",
   "execution_count": null,
   "id": "7e7038c4-4c14-4fae-a987-c169ac527943",
   "metadata": {
    "editable": false,
    "slideshow": {
     "slide_type": ""
    },
    "tags": []
   },
   "outputs": [],
   "source": [
    "// Credential Data\n",
    "const oorAuthData = {\n",
    "    AID: '',\n",
    "    LEI: leData.LEI,\n",
    "    personLegalName: 'Jane Doe',\n",
    "    officialRole: 'CEO',\n",
    "};\n",
    "\n",
    "const oorAuthEdge = Saider.saidify({\n",
    "    d: '',\n",
    "    le: {\n",
    "        n: leCredential.sad.d,\n",
    "        s: leCredential.sad.s,\n",
    "    },\n",
    "})[1];\n",
    "\n",
    "// LE - Issue credential\n",
    "prTitle(\"Issuing Credential\")\n",
    "\n",
    "const { credentialSaid: credentialSaid} = await issueCredential(\n",
    "    leClient, leAlias, leRegistrySaid, \n",
    "    OOR_AUTH_SCHEMA_SAID,\n",
    "    qviPrefix,\n",
    "    oorAuthData, oorAuthEdge, leRules // Reuses LE rules\n",
    ")\n",
    "\n",
    "// LE - get credential\n",
    "const oorAuthCredential = await leClient.credentials().get(credentialSaid);\n",
    "\n",
    "// LE - Ipex grant\n",
    "prTitle(\"Granting Credential\")\n",
    "\n",
    "const grantResponse = await ipexGrantCredential(\n",
    "    leClient, leAlias, \n",
    "    qviPrefix,\n",
    "    oorAuthCredential\n",
    ")\n",
    "\n",
    "// QVI - Wait for grant notification\n",
    "const grantNotifications = await waitForAndGetNotification(qviClient, IPEX_GRANT_ROUTE)\n",
    "const grantNotification = grantNotifications[0]\n",
    "\n",
    "// QVI - Admit Grant\n",
    "prTitle(\"Admitting Grant\")\n",
    "const admitResponse = await ipexAdmitGrant(\n",
    "    qviClient, qviAlias,\n",
    "    lePrefix,\n",
    "    grantNotification.a.d\n",
    ")\n",
    "\n",
    "// QVI - Mark notification\n",
    "await markNotificationRead(qviClient, grantNotification.i)\n",
    "\n",
    "// LE - Wait for admit notification\n",
    "const admitNotifications = await waitForAndGetNotification(leClient, IPEX_ADMIT_ROUTE)\n",
    "const admitNotification = admitNotifications[0]\n",
    "\n",
    "// LE - Mark notification\n",
    "await markNotificationRead(leClient, admitNotification.i)\n",
    "\n",
    "prContinue()"
   ]
  },
  {
   "cell_type": "markdown",
   "id": "ce140055-8a80-43c3-8140-2af6052c758b",
   "metadata": {
    "editable": false,
    "slideshow": {
     "slide_type": ""
    },
    "tags": []
   },
   "source": [
    "### Step 4: OOR Credential - QVI issues the final OOR credential to the Role holder\n",
    "\n",
    "Now, with the specific OOR authorization from the LE, the QVI can issue the final OOR credential to the individual Role Holder.\n",
    "\n",
    "This is a critical link in the chain. The edge block in this new credential points to the `oorAuthCredential` from **Step 3**.\n",
    "\n",
    "- `o: 'I2I'`: It uses the `I2I` (Issuer-to-Issuee) operator. This enforces a strict rule during verification, the issuer of this OOR credential (the QVI) must be the same entity as the issuee of the authorization credential it's pointing to. This cryptographically proves that the QVI had the correct, specific authorization from the LE to issue this very role credential."
   ]
  },
  {
   "cell_type": "code",
   "execution_count": null,
   "id": "ce31da87-d77d-485d-a98c-56707c88c7c5",
   "metadata": {
    "editable": false,
    "slideshow": {
     "slide_type": ""
    },
    "tags": []
   },
   "outputs": [],
   "source": [
    "// Credential Data\n",
    "const oorData = {\n",
    "    LEI: oorAuthData.LEI,\n",
    "    personLegalName: oorAuthData.personLegalName,\n",
    "    officialRole: oorAuthData.officialRole,\n",
    "};\n",
    "\n",
    "const oorEdge = Saider.saidify({\n",
    "    d: '',\n",
    "    auth: {\n",
    "        n: oorAuthCredential.sad.d,\n",
    "        s: oorAuthCredential.sad.s,\n",
    "        o: 'I2I',\n",
    "    },\n",
    "})[1];\n",
    "\n",
    "// QVI - Issue credential\n",
    "prTitle(\"Issuing Credential\")\n",
    "const { credentialSaid: credentialSaid} = await issueCredential(\n",
    "    qviClient, qviAlias, qviRegistrySaid, \n",
    "    OOR_SCHEMA_SAID,\n",
    "    rolePrefix,\n",
    "    oorData, oorEdge, leRules // Reuses LE rules\n",
    ")\n",
    "\n",
    "// QVI - get credential (with all its data)\n",
    "prTitle(\"Granting Credential\")\n",
    "const oorCredential = await qviClient.credentials().get(credentialSaid);\n",
    "\n",
    "// QVI - Ipex grant\n",
    "const grantResponse = await ipexGrantCredential(\n",
    "    qviClient, qviAlias, \n",
    "    rolePrefix,\n",
    "    oorCredential\n",
    ")\n",
    "\n",
    "// ROLE - Wait for grant notification\n",
    "const grantNotifications = await waitForAndGetNotification(roleClient, IPEX_GRANT_ROUTE)\n",
    "const grantNotification = grantNotifications[0]\n",
    "\n",
    "// ROLE - Admit Grant\n",
    "prTitle(\"Admitting Grant\")\n",
    "const admitResponse = await ipexAdmitGrant(\n",
    "    roleClient, roleAlias,\n",
    "    qviPrefix,\n",
    "    grantNotification.a.d\n",
    ")\n",
    "\n",
    "// LE - Mark notification\n",
    "await markNotificationRead(roleClient, grantNotification.i)\n",
    "\n",
    "// QVI - Wait for admit notification\n",
    "const admitNotifications = await waitForAndGetNotification(qviClient, IPEX_ADMIT_ROUTE)\n",
    "const admitNotification = admitNotifications[0]\n",
    "\n",
    "// QVI - Mark notification\n",
    "await markNotificationRead(qviClient, admitNotification.i)\n",
    "\n",
    "prContinue()"
   ]
  },
  {
   "cell_type": "markdown",
   "id": "951a7cc5-426c-410e-ad9e-de4f0da4a0fb",
   "metadata": {
    "editable": false,
    "slideshow": {
     "slide_type": ""
    },
    "tags": []
   },
   "source": [
    "### Step 5: ECR AUTH Credential - LE issues an ECR authorization credential to the QVI\n",
    "\n",
    "This flow mirrors the OOR authorization. The LE issues an Engagement Context Role (ECR) authorization to the QVI. This allows the QVI to issue credentials for non-official but contextually important roles (e.g., \"Project Lead,\" \"Authorized Signatory for Invoices\"). The `ecrAuthEdge` again links to the LE's root credential to prove the source of the authorization.\n"
   ]
  },
  {
   "cell_type": "code",
   "execution_count": null,
   "id": "53eae686-a28c-4b34-ad36-2a59df502d61",
   "metadata": {
    "editable": false,
    "slideshow": {
     "slide_type": ""
    },
    "tags": []
   },
   "outputs": [],
   "source": [
    "// Credential Data\n",
    "const ecrAuthData = {\n",
    "    AID: '',\n",
    "    LEI: leData.LEI,\n",
    "    personLegalName: 'John Doe',\n",
    "    engagementContextRole: 'Managing Director',\n",
    "};\n",
    "\n",
    "const ecrAuthEdge = Saider.saidify({\n",
    "    d: '',\n",
    "    le: {\n",
    "        n: leCredential.sad.d,\n",
    "        s: leCredential.sad.s,\n",
    "    },\n",
    "})[1];\n",
    "\n",
    "const ecrAuthRules = Saider.saidify({\n",
    "    d: '',\n",
    "    usageDisclaimer: {\n",
    "        l: 'Usage of a valid, unexpired, and non-revoked vLEI Credential, as defined in the associated Ecosystem Governance Framework, does not assert that the Legal Entity is trustworthy, honest, reputable in its business dealings, safe to do business with, or compliant with any laws or that an implied or expressly intended purpose will be fulfilled.',\n",
    "    },\n",
    "    issuanceDisclaimer: {\n",
    "        l: 'All information in a valid, unexpired, and non-revoked vLEI Credential, as defined in the associated Ecosystem Governance Framework, is accurate as of the date the validation process was complete. The vLEI Credential has been issued to the legal entity or person named in the vLEI Credential as the subject; and the qualified vLEI Issuer exercised reasonable care to perform the validation process set forth in the vLEI Ecosystem Governance Framework.',\n",
    "    },\n",
    "    privacyDisclaimer: {\n",
    "        l: 'Privacy Considerations are applicable to QVI ECR AUTH vLEI Credentials.  It is the sole responsibility of QVIs as Issuees of QVI ECR AUTH vLEI Credentials to present these Credentials in a privacy-preserving manner using the mechanisms provided in the Issuance and Presentation Exchange (IPEX) protocol specification and the Authentic Chained Data Container (ACDC) specification.  https://github.com/WebOfTrust/IETF-IPEX and https://github.com/trustoverip/tswg-acdc-specification.',\n",
    "    },\n",
    "})[1];\n",
    "\n",
    "// LE - Issue credential\n",
    "prTitle(\"Issuing Credential\")\n",
    "\n",
    "const { credentialSaid: credentialSaid} = await issueCredential(\n",
    "    leClient, leAlias, leRegistrySaid, \n",
    "    ECR_AUTH_SCHEMA_SAID,\n",
    "    qviPrefix,\n",
    "    ecrAuthData, ecrAuthEdge, ecrAuthRules\n",
    ")\n",
    "\n",
    "// LE - get credential\n",
    "const ecrAuthCredential = await leClient.credentials().get(credentialSaid);\n",
    "\n",
    "// LE - Ipex grant\n",
    "prTitle(\"Granting Credential\")\n",
    "\n",
    "const grantResponse = await ipexGrantCredential(\n",
    "    leClient, leAlias, \n",
    "    qviPrefix,\n",
    "    ecrAuthCredential\n",
    ")\n",
    "\n",
    "// QVI - Wait for grant notification\n",
    "const grantNotifications = await waitForAndGetNotification(qviClient, IPEX_GRANT_ROUTE)\n",
    "const grantNotification = grantNotifications[0]\n",
    "\n",
    "// QVI - Admit Grant\n",
    "prTitle(\"Admitting Grant\")\n",
    "const admitResponse = await ipexAdmitGrant(\n",
    "    qviClient, qviAlias,\n",
    "    lePrefix,\n",
    "    grantNotification.a.d\n",
    ")\n",
    "\n",
    "// QVI - Mark notification\n",
    "await markNotificationRead(qviClient, grantNotification.i)\n",
    "\n",
    "// LE - Wait for admit notification\n",
    "const admitNotifications = await waitForAndGetNotification(leClient, IPEX_ADMIT_ROUTE)\n",
    "const admitNotification = admitNotifications[0]\n",
    "\n",
    "// LE - Mark notification\n",
    "await markNotificationRead(leClient, admitNotification.i)\n",
    "\n",
    "prContinue()"
   ]
  },
  {
   "cell_type": "markdown",
   "id": "4b56d3c0-6d2c-43b4-95ae-2b3dc21abc71",
   "metadata": {
    "editable": false,
    "slideshow": {
     "slide_type": ""
    },
    "tags": []
   },
   "source": [
    "### Step 6 (Path 1): ECR Credential - LE directly issues an Engagement Context Role credential to the Role holder\n",
    "\n",
    "The vLEI framework is flexible. For ECR credentials, the Legal Entity can bypass a QVI and issue them directly. This path demonstrates that flow. The `ecrEdge` links directly to the LE's own vLEI credential, signifying its direct authority to define and issue this role."
   ]
  },
  {
   "cell_type": "code",
   "execution_count": null,
   "id": "93670023-0fd7-4c38-8fa0-28663c9f7134",
   "metadata": {
    "editable": false,
    "slideshow": {
     "slide_type": ""
    },
    "tags": []
   },
   "outputs": [],
   "source": [
    "// Credential Data\n",
    "const ecrData = {\n",
    "    LEI: leData.LEI,\n",
    "    personLegalName: 'John Doe',\n",
    "    engagementContextRole: 'Managing Director',\n",
    "};\n",
    "\n",
    "const ecrEdge = Saider.saidify({\n",
    "    d: '',\n",
    "    le: {\n",
    "        n: leCredential.sad.d,\n",
    "        s: leCredential.sad.s,\n",
    "    },\n",
    "})[1];\n",
    "\n",
    "const ecrRules = Saider.saidify({\n",
    "    d: '',\n",
    "    usageDisclaimer: {\n",
    "        l: 'Usage of a valid, unexpired, and non-revoked vLEI Credential, as defined in the associated Ecosystem Governance Framework, does not assert that the Legal Entity is trustworthy, honest, reputable in its business dealings, safe to do business with, or compliant with any laws or that an implied or expressly intended purpose will be fulfilled.',\n",
    "    },\n",
    "    issuanceDisclaimer: {\n",
    "        l: 'All information in a valid, unexpired, and non-revoked vLEI Credential, as defined in the associated Ecosystem Governance Framework, is accurate as of the date the validation process was complete. The vLEI Credential has been issued to the legal entity or person named in the vLEI Credential as the subject; and the qualified vLEI Issuer exercised reasonable care to perform the validation process set forth in the vLEI Ecosystem Governance Framework.',\n",
    "    },\n",
    "    privacyDisclaimer: {\n",
    "        l: 'It is the sole responsibility of Holders as Issuees of an ECR vLEI Credential to present that Credential in a privacy-preserving manner using the mechanisms provided in the Issuance and Presentation Exchange (IPEX) protocol specification and the Authentic Chained Data Container (ACDC) specification. https://github.com/WebOfTrust/IETF-IPEX and https://github.com/trustoverip/tswg-acdc-specification.',\n",
    "    },\n",
    "})[1];\n",
    "\n",
    "// lE - Issue credential\n",
    "prTitle(\"Issuing Credential\")\n",
    "\n",
    "const { credentialSaid: credentialSaid} = await issueCredential(\n",
    "    leClient, leAlias, leRegistrySaid, \n",
    "    ECR_SCHEMA_SAID,\n",
    "    rolePrefix,\n",
    "    ecrData, ecrEdge, ecrRules,\n",
    "\ttrue\n",
    ")\n",
    "\n",
    "// lE - get credential\n",
    "const ecrCredential = await leClient.credentials().get(credentialSaid);\n",
    "\n",
    "// lE - Ipex grant\n",
    "prTitle(\"Granting Credential\")\n",
    "\n",
    "const grantResponse = await ipexGrantCredential(\n",
    "    leClient, leAlias, \n",
    "    rolePrefix,\n",
    "    ecrCredential\n",
    ")\n",
    "\n",
    "// role - Wait for grant notification\n",
    "const grantNotifications = await waitForAndGetNotification(roleClient, IPEX_GRANT_ROUTE)\n",
    "const grantNotification = grantNotifications[0]\n",
    "\n",
    "// role - Admit Grant\n",
    "prTitle(\"Admitting Grant\")\n",
    "\n",
    "const admitResponse = await ipexAdmitGrant(\n",
    "    roleClient, roleAlias,\n",
    "    lePrefix,\n",
    "    grantNotification.a.d\n",
    ")\n",
    "\n",
    "// role - Mark notification\n",
    "await markNotificationRead(roleClient, grantNotification.i)\n",
    "\n",
    "// le - Wait for admit notification\n",
    "const admitNotifications = await waitForAndGetNotification(leClient, IPEX_ADMIT_ROUTE)\n",
    "const admitNotification = admitNotifications[0]\n",
    "\n",
    "// le - Mark notification\n",
    "await markNotificationRead(leClient, admitNotification.i)\n",
    "\n",
    "prContinue()"
   ]
  },
  {
   "cell_type": "markdown",
   "id": "ea8c8fe4-0729-42ef-8c8a-1fde5aa0da69",
   "metadata": {
    "editable": false,
    "slideshow": {
     "slide_type": ""
    },
    "tags": []
   },
   "source": [
    "### Step 6 (Path 2): ECR Credential - QVI issues another ECR credential using the AUTH credential\n",
    "\n",
    "This is an alternate path for ECR issuance. Here, the QVI uses the `ECR AUTH` credential it received from the LE in **Step 5** to issue an ECR credential. Just like the OOR flow, the edge block uses the `I2I` operator, proving the QVI is acting on a specific, verifiable authorization from the Legal Entity."
   ]
  },
  {
   "cell_type": "code",
   "execution_count": null,
   "id": "2425d61c-b615-4db2-baf2-d4590136d6cf",
   "metadata": {
    "editable": false,
    "slideshow": {
     "slide_type": ""
    },
    "tags": []
   },
   "outputs": [],
   "source": [
    "// Credential Data\n",
    "const ecrEdgeByQvi = Saider.saidify({\n",
    "    d: '',\n",
    "    auth: {\n",
    "        n: ecrAuthCredential.sad.d,\n",
    "        s: ecrAuthCredential.sad.s,\n",
    "        o: 'I2I',\n",
    "    },\n",
    "})[1];\n",
    "\n",
    "// QVI - Issue credential\n",
    "prTitle(\"Issuing Credential\")\n",
    "const { credentialSaid: credentialSaid} = await issueCredential(\n",
    "    qviClient,  qviAlias, qviRegistrySaid, \n",
    "    ECR_SCHEMA_SAID,\n",
    "    rolePrefix,\n",
    "    ecrData, ecrEdgeByQvi, ecrRules,\n",
    "    true\n",
    ")\n",
    "\n",
    "// QVI - get credential (with all its data)\n",
    "prTitle(\"Granting Credential\")\n",
    "const ecrByQviCredential = await qviClient.credentials().get(credentialSaid);\n",
    "\n",
    "// QVI - Ipex grant\n",
    "const grantResponse = await ipexGrantCredential(\n",
    "    qviClient, qviAlias, \n",
    "    rolePrefix,\n",
    "    ecrByQviCredential\n",
    ")\n",
    "\n",
    "// ROLE - Wait for grant notification\n",
    "const grantNotifications = await waitForAndGetNotification(roleClient, IPEX_GRANT_ROUTE)\n",
    "const grantNotification = grantNotifications[0]\n",
    "\n",
    "// ROLE - Admit Grant\n",
    "prTitle(\"Admitting Grant\")\n",
    "const admitResponse = await ipexAdmitGrant(\n",
    "    roleClient, roleAlias,\n",
    "    qviPrefix,\n",
    "    grantNotification.a.d\n",
    ")\n",
    "\n",
    "// LE - Mark notification\n",
    "await markNotificationRead(roleClient, grantNotification.i)\n",
    "\n",
    "// QVI - Wait for admit notification\n",
    "const admitNotifications = await waitForAndGetNotification(qviClient, IPEX_ADMIT_ROUTE)\n",
    "const admitNotification = admitNotifications[0]\n",
    "\n",
    "// QVI - Mark notification\n",
    "await markNotificationRead(qviClient, admitNotification.i)\n",
    "\n",
    "prContinue()"
   ]
  },
  {
   "cell_type": "markdown",
   "id": "c04ff007-0ec4-436c-ba98-ee169451e190",
   "metadata": {
    "editable": false,
    "slideshow": {
     "slide_type": ""
    },
    "tags": []
   },
   "source": [
    "## The vLEI Reporting Agent\n",
    "\n",
    "Once credentials like the ones created in this chain are issued and held by their respective entities, a common next step is to present them for verification or auditing. The vLEI Audit Reporting Agent, known as Sally, is a component designed for this purpose.\n",
    "\n",
    "Sally acts as a direct-mode validator. It receives presentations of vLEI credentials (like the QVI, vLEI and OOR credentials), cryptographically verifies their structure and integrity, and then performs a POST request to a pre-configured webhook URL. This allows external systems to receive trusted, real-time notifications about credential presentations and revocations within the vLEI ecosystem.\n",
    "\n",
    "For more details about Sally go to its Github **[repository](https://github.com/GLEIF-IT/sally)**.\n",
    "\n",
    "To continue with the example you need to start the sally service following the instructions below (⚠️ The command is programatically generated) in the root directory of these training materials so the correct docker compose file is found."
   ]
  },
  {
   "cell_type": "code",
   "execution_count": null,
   "id": "b8d49a79-babd-4222-94ea-38c49b93465b",
   "metadata": {
    "editable": false,
    "slideshow": {
     "slide_type": ""
    },
    "tags": []
   },
   "outputs": [],
   "source": [
    "// Ask user to start the sally service setting the proper root of trust for this run\n",
    "prAlert(`Please run this command on you local machine in the vlei-trainings directory before continuing, and wait for the container to start:`)\n",
    "\n",
    "prMessage(`GEDA_PRE=${gleifPrefix} docker compose up --build direct-sally -d`)\n",
    "\n",
    "const isReady = confirm(\"Is the service running and ready to accept connections?\");\n",
    "if (isReady) {\n",
    "    prContinue()\n",
    "} else {\n",
    "    throw new Error(\"❌ Script aborted by user. Please start the service and run the script again.\");\n",
    "}\n"
   ]
  },
  {
   "cell_type": "markdown",
   "id": "d34cea59-fa6f-4768-88c5-a878b438f194",
   "metadata": {
    "editable": false,
    "slideshow": {
     "slide_type": ""
    },
    "tags": []
   },
   "source": [
    "<div class=\"alert alert-info\">\n",
    "    <b>ℹ️ NOTE</b><hr>\n",
    "    When the sally service is started, the Root of Trust prefix is passed via the <code>GEDA_PRE</code> variable.  \n",
    "</div>"
   ]
  },
  {
   "cell_type": "markdown",
   "id": "90a09c5a-59cf-4d32-800f-a25ad9868210",
   "metadata": {
    "editable": false,
    "slideshow": {
     "slide_type": ""
    },
    "tags": []
   },
   "source": [
    "### The Presentation Workflow\n",
    "\n",
    "The following code block performs the entire presentation flow in four main steps.\n",
    "\n",
    "1. **Establishing Contact with Sally:** Before the Legal Entity client (`leClient`) can present its credentials, it must first know how to communicate with Sally. The first action in the code is `resolveOOBI(leClient, sallyOOBI, sallyAlias)`, which resolves Sally's OOBI to establish this connection.\n",
    "2. **Running the Local Sally Service:** The code will then prompt you to start the local Sally service using a `docker compose` command. This command is critical for the demonstration:\n",
    "    - It starts a container running the Sally agent.\n",
    "    - It also starts a simple hook service that acts as the webhook endpoint, listening for and storing the reports that Sally will post.\n",
    "    - The `GEDA_PRE=${gleifPrefix}` variable passed to the command provides Sally with the Root of Trust AID for this specific notebook run. Sally requires this information to validate the entire credential chain, from the LE credential presented to it all the way back to its root anchor at GLEIF.\n",
    "3. **Presenting the Credential:** The `presentToSally()` function uses `ipexGrantCredential` to send the `leCredential` to Sally's AID. This action is the `signify-ts` equivalent of using `kli ipex grant` for credential presentation and initiates the verification process within Sally.\n",
    "4. **Verifying the Audit Report:** Finally, the `pollForCredential()` function simulates a webhook listener. Instead of running a full server, it simply polls the hook service where Sally sends its report. Upon receiving a successful `200 OK` response, it fetches and displays the JSON report, confirming that Sally received the presentation, successfully verified the trust chain, and dispatched its audit report."
   ]
  },
  {
   "cell_type": "code",
   "execution_count": null,
   "id": "04efffbf-dd85-4226-a3ce-0ae98aa69b75",
   "metadata": {
    "editable": false,
    "slideshow": {
     "slide_type": ""
    },
    "tags": []
   },
   "outputs": [],
   "source": [
    "// Present to sally\n",
    "\n",
    "const sallyOOBI = \"http://direct-sally:9823/oobi\"\n",
    "const sallyPrefix = \"ECLwKe5b33BaV20x7HZWYi_KUXgY91S41fRL2uCaf4WQ\"\n",
    "const sallyAlias = \"sally\"\n",
    "\n",
    "// Ipex presentation of LE credential\n",
    "async function presentToSally(){\n",
    "    prTitle(\"Presenting vLEI Credential to sally\")\n",
    "    const grantResponse = await ipexGrantCredential(\n",
    "        leClient,  leAlias, \n",
    "        sallyPrefix,\n",
    "        leCredential\n",
    "    )\n",
    "}\n",
    "\n",
    "// Poll webhook for LE credential data\n",
    "const webhookUrl = `${\"http://hook:9923\"}/?holder=${lePrefix}`;\n",
    "\n",
    "async function pollForCredential() {\n",
    "\n",
    "    const TIMEOUT_SECONDS = 25;\n",
    "    let present_result = 0;\n",
    "    const start = Date.now();\n",
    "\n",
    "    while (present_result !== 200) {\n",
    "\n",
    "        if ((Date.now() - start) / 1000 > TIMEOUT_SECONDS) {\n",
    "            prMessage(`TIMEOUT - Sally did not receive the Credential`);\n",
    "            break; // Exit the loop\n",
    "        }\n",
    "        // Run curl to get just the HTTP status code\n",
    "        try {\n",
    "            const command = new Deno.Command(\"curl\", {\n",
    "                args: [\"-s\", \"-o\", \"/dev/null\", \"-w\", \"%{http_code}\", webhookUrl],\n",
    "            });\n",
    "            const { stdout } = await command.output();\n",
    "            const httpCodeStr = new TextDecoder().decode(stdout);\n",
    "            present_result = parseInt(httpCodeStr, 10) || 0; // Default to 0 if parsing fails\n",
    "            prMessage(`Received ${present_result} from Sally`);\n",
    "        } catch (error) {\n",
    "            prMessage(`[QVI] Polling command failed: ${error.message}`);\n",
    "            present_result = 0; // Reset on failure to avoid exiting loop\n",
    "        }\n",
    "        if (present_result !== 200) {\n",
    "            await sleep(1000); \n",
    "        }\n",
    "    }\n",
    "    if (present_result === 200) {\n",
    "        prTitle(\"Fetching Credential Info...\");\n",
    "        const command = new Deno.Command(\"curl\", {\n",
    "            args: [\"-s\", webhookUrl]\n",
    "        });\n",
    "        const { stdout } = await command.output();\n",
    "        const responseBody = new TextDecoder().decode(stdout);\n",
    "        try {\n",
    "            const jsonObject = JSON.parse(responseBody);\n",
    "            const formattedJson = JSON.stringify(jsonObject, null, 2);\n",
    "            prMessage(formattedJson);\n",
    "        } catch (error) {\n",
    "            prMessage(\"Response was not valid JSON. Printing raw body:\");\n",
    "            prMessage(responseBody);\n",
    "        }\n",
    "    }\n",
    "}\n",
    "\n",
    "while(! await isServiceHealthy(\"http://direct-sally:9823/health\")){\n",
    "    prMessage(`Please run this command on you local machine before continuing, and wait for the container to start:`)\n",
    "    prMessage(`GEDA_PRE=${gleifPrefix} docker compose up --build direct-sally -d`)\n",
    "    await sleep(5000);\n",
    "}\n",
    "\n",
    "await resolveOOBI(leClient, sallyOOBI, sallyAlias)\n",
    "await resolveOOBI(qviClient, sallyOOBI, sallyAlias)\n",
    "await presentToSally()\n",
    "await pollForCredential()\n",
    "\n",
    "prContinue()"
   ]
  },
  {
   "cell_type": "markdown",
   "id": "d5738a78-4b62-4017-962f-abed479a4738",
   "metadata": {
    "editable": false,
    "slideshow": {
     "slide_type": ""
    },
    "tags": []
   },
   "source": [
    "<div class=\"alert alert-prymary\">\n",
    "<b>📝 SUMMARY</b><hr>\n",
    "This notebook provided a practical walkthrough of a simplified vLEI trust chain using Signify-ts, demonstrating:\n",
    "<ul>\n",
    "<li><b>Hierarchical Trust:</b> Each credential in the chain cryptographically references its authorizing credential, creating a verifiable link back to the Root of Trust (GLEIF).</li>\n",
    "<li><b>Multiple Issuance Paths:</b> The vLEI ecosystem supports different issuance models, including direct issuance by a Legal Entity (for ECRs) and authorized issuance by a QVI on behalf of an LE (for OORs and ECRs).</li>\n",
    "<li><b>IPEX Protocol:</b> The Issuance and Presentation Exchange protocol facilitates the secure delivery of credentials between parties using a grant/admit message flow.</li>\n",
    "<li><b>Schema Compliance:</b> Every credential adheres to a specific, SAID-identified vLEI schema, ensuring interoperability and consistent data structures.</li>\n",
    "<li><b>Credential Chaining:</b> The 'edges' section of an ACDC is used to reference the SAID of a source credential, explicitly defining the chain of authority.</li>\n",
    "<li><b>Audit Agent Interaction:</b> A credential holder can present their ACDC to an external agent like Sally for verification and auditing. Sally validates the entire trust chain and notifies an external service via a webhook.</li>\n",
    "</ul>\n",
    "This represents a functional, albeit simplified, model of how the vLEI ecosystem issues verifiable credentials for legal entities and their roles while maintaining a robust and verifiable chain of trust.\n",
    "</div>"
   ]
  },
  {
   "cell_type": "markdown",
   "id": "f21c3cdd-1399-4ff0-85d7-33b9bf0af8fa",
   "metadata": {
    "editable": false,
    "slideshow": {
     "slide_type": ""
    },
    "tags": []
   },
   "source": [
    "[<- Prev (vLEI Ecosystem)](103_05_vLEI_Ecosystem.ipynb) | [Next (Integrating Chainlink CCID with vLEI) ->](220_10_Integrating_Chainlink_CCID_with_vLEI.ipynb)"
   ]
  }
 ],
 "metadata": {
  "kernelspec": {
   "display_name": "Deno",
   "language": "typescript",
   "name": "deno"
  },
  "language_info": {
   "codemirror_mode": "typescript",
   "file_extension": ".ts",
   "mimetype": "text/x.typescript",
   "name": "typescript",
   "nbconvert_exporter": "script",
   "pygments_lexer": "typescript",
   "version": "5.9.2"
  }
 },
 "nbformat": 4,
 "nbformat_minor": 5
}
