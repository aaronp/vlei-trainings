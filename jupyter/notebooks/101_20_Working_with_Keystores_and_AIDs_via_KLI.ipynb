{
 "cells": [
  {
   "cell_type": "markdown",
   "id": "7a37f057-cd95-433c-9702-4135517aa201",
   "metadata": {
    "editable": false,
    "slideshow": {
     "slide_type": ""
    },
    "tags": []
   },
   "source": [
    "# KLI Operations: Managing Keystores and Identifiers"
   ]
  },
  {
   "cell_type": "markdown",
   "id": "8f101fd4-0a33-48b4-861e-a4e016045296",
   "metadata": {
    "editable": false,
    "slideshow": {
     "slide_type": ""
    },
    "tags": []
   },
   "source": [
    "<div class=\"alert alert-primary\">\n",
    "  <b>🎯 OBJECTIVE</b><hr>\n",
    "    Demonstrate how to create a KERI keystore and then manage identifiers within it using the <code>kli init</code>, <code>kli incept</code>, and <code>kli list</code> commands.\n",
    "</div>"
   ]
  },
  {
   "cell_type": "markdown",
   "id": "94fd6f8c-7747-4b64-a05f-353bc98c1221",
   "metadata": {
    "editable": false,
    "slideshow": {
     "slide_type": ""
    },
    "tags": []
   },
   "source": [
    "## Initializing Keystores\n",
    "\n",
    "Before you can create identifiers or perform many other actions with KLI, you need a keystore. The keystore is an encrypted data store that holds the keys for your identifiers. To initialize a keystore, you give it a name, protect it with a passcode, and provide a salt for generating the keys.\n",
    "\n",
    "The command to do this is `kli init`. Here's an example:\n"
   ]
  },
  {
   "cell_type": "markdown",
   "id": "01bc7bd3-3df6-4f4f-b8a5-ef874c01eba2",
   "metadata": {
    "editable": false,
    "slideshow": {
     "slide_type": ""
    },
    "tags": []
   },
   "source": [
    "<div class=\"alert alert-info\">\n",
    "  <b>💡 TIP</b><hr>\n",
    "    <li>If you run <code>clear_keri()</code>, the keystore directories are deleted.</li>  \n",
    "    <li>This function is provided as a utility to clean your data and re-run the notebooks.</li>\n",
    "    <li>It will be called at the beginning of each notebook.</li>\n",
    "</div>"
   ]
  },
  {
   "cell_type": "code",
   "execution_count": 1,
   "id": "8c3f5bbd-590d-469b-9259-90b5c0199213",
   "metadata": {
    "editable": false,
    "slideshow": {
     "slide_type": ""
    },
    "tags": []
   },
   "outputs": [
    {
     "name": "stdout",
     "output_type": "stream",
     "text": [
      "Proceeding with deletion of '/usr/local/var/keri/' without confirmation.\n",
      "⚠️ Path not found: /usr/local/var/keri/. Nothing to remove.\n"
     ]
    }
   ],
   "source": [
    "# Imports and Utility functions\n",
    "from scripts.utils import clear_keri\n",
    "clear_keri()"
   ]
  },
  {
   "cell_type": "code",
   "execution_count": 2,
   "id": "094f9e78-a8a7-4859-920b-1ec7338e9b6f",
   "metadata": {
    "editable": false,
    "slideshow": {
     "slide_type": ""
    },
    "tags": []
   },
   "outputs": [
    {
     "name": "stdout",
     "output_type": "stream",
     "text": [
      "KERI Keystore created at: /usr/local/var/keri/ks/my-first-key-store\n",
      "KERI Database created at: /usr/local/var/keri/db/my-first-key-store\n",
      "KERI Credential Store created at: /usr/local/var/keri/reg/my-first-key-store\n",
      "\taeid: BD-1udeJaXFzKbSUFb6nhmndaLlMj-pdlNvNoN562h3z\n"
     ]
    }
   ],
   "source": [
    "# Choose a name for your keystore\n",
    "keystore_name=\"my-first-key-store\"\n",
    "# Use a strong, randomly generated passcode (using a predefined one here, but can be created with 'kli passcode generate')\n",
    "keystore_passcode=\"xSLg286d4iWiRg2mzGYca\"\n",
    "# Use a random salt (using a predefined one here, but can be created with 'kli salt')\n",
    "keystore_salt=\"0ABeuT2dErMrqFE5Dmrnc2Bq\"\n",
    "\n",
    "!kli init --name {keystore_name} \\\n",
    "    --passcode {keystore_passcode} \\\n",
    "    --salt {keystore_salt}"
   ]
  },
  {
   "attachments": {},
   "cell_type": "markdown",
   "id": "c480ca8c-5419-4b2b-b269-de5590203772",
   "metadata": {
    "editable": false,
    "slideshow": {
     "slide_type": ""
    },
    "tags": []
   },
   "source": [
    "The command sets up the necessary file structures for your keystore, so once executed, it's ready for you to create and manage Identifiers within it.\n",
    "\n",
    "![](images/empty-keystore.png)"
   ]
  },
  {
   "cell_type": "markdown",
   "id": "5c3e2ab4-9fb7-4a97-9a0c-86f468070cd3",
   "metadata": {
    "editable": false,
    "slideshow": {
     "slide_type": ""
    },
    "tags": []
   },
   "source": [
    "<div class=\"alert alert-info\">\n",
    "  <b>ℹ️ NOTE</b><hr>\n",
    "<ul>\n",
    "<li>In the example, predefined <code>--passcode</code> and <code>--salt</code> values are used for convenience, but randomly generated values can be obtained using the <code>kli passcode generate</code> and <code>kli salt</code>\n",
    "    <li>As mentioned earlier, the passcode is used for encryption of the keystore.\n",
    "    <li>The salt value is used as input (along with other context including the keystore's aeid) to deterministically generate all key-pairs belonging to an identifier. In these examples, you'll see many public keys and derivations of those (such as an AID's prefix), that are dependent on the salt value.\n",
    "    <li>You can initialize multiple keystores as long as they have different names.\n",
    "</div>"
   ]
  },
  {
   "cell_type": "markdown",
   "id": "eb9b23b6-7bea-4596-83da-40efa7bb43a9",
   "metadata": {
    "editable": false,
    "slideshow": {
     "slide_type": ""
    },
    "tags": []
   },
   "source": [
    "## Creating Identifiers (Inception)\n",
    "\n",
    "Now that your keystore is set, you can create your first identifier (AID) within it using the `kli incept` command. You'll need to provide: \n",
    "- `--name` and `--passcode`: Think of it as the keystore access credentials `keystore_name` and `keystore_passcode`\n",
    "- `--alias`: It will be difficult to recall an AID by its value. A human-readable `alias` is assigned using this parameter \n",
    "- `--icount` and `--isith`: the number of signing keys and the signing threshold, respectively. \n",
    "- Other parameters such as `--ncount`, `--nsith`, and `--toad` will be explained later. \n",
    "\n",
    "Executing `kli incept` will create the AID and output the prefix. This also means that the command will add the first event to the AID KEL, the inception event.\n",
    "\n",
    "Proceed and create your first AID:\n",
    " "
   ]
  },
  {
   "cell_type": "code",
   "execution_count": 3,
   "id": "aec4ddaa-c006-41d2-9078-1bcba9704765",
   "metadata": {
    "editable": false,
    "slideshow": {
     "slide_type": ""
    },
    "tags": []
   },
   "outputs": [
    {
     "name": "stdout",
     "output_type": "stream",
     "text": [
      "Prefix  BHt9Kw8oUgfB2kiyoj65B2VE5fZLr87S5MJP3l4JeRwC\n",
      "\tPublic key 1:  BHt9Kw8oUgfB2kiyoj65B2VE5fZLr87S5MJP3l4JeRwC\n",
      "\n"
     ]
    }
   ],
   "source": [
    "# Choose a human-readable alias for your identifier within this keystore\n",
    "aid_alias = \"my-first-aid\"\n",
    "\n",
    "# Create (incept) the identifier\n",
    "!kli incept --name {keystore_name} \\\n",
    "    --passcode {keystore_passcode} \\\n",
    "    --alias {aid_alias} \\\n",
    "    --icount 1 \\\n",
    "    --isith 1 \\\n",
    "    --ncount 0 \\\n",
    "    --nsith 0 \\\n",
    "    --toad 0"
   ]
  },
  {
   "cell_type": "markdown",
   "id": "a7adb942-7406-4f63-b9bb-a04e09cd7779",
   "metadata": {
    "editable": false,
    "slideshow": {
     "slide_type": ""
    },
    "tags": []
   },
   "source": [
    "![](images/incepted-keystore.png)"
   ]
  },
  {
   "cell_type": "markdown",
   "id": "52e53a14-e3d7-4858-9fb7-31b596c8b4af",
   "metadata": {
    "editable": false,
    "slideshow": {
     "slide_type": ""
    },
    "tags": []
   },
   "source": [
    "## Understanding Prefixes\n",
    "\n",
    "The `kli incept` command generated an AID, which is represented by a unique string, e.g., `BHt9Kw8oUgfB2kiyoj65B2VE5fZLr87S5MJP3l4JeRwC`, known as the Prefix. While closely related, they represent different aspects of the identifier:\n",
    "\n",
    "- AID: This is the formal concept of the self-governing identifier, representing the entity and its control. An entity may have multiple AIDs.\n",
    "- Prefix: This is the practical, usable string representation of the AID. It's derived directly from the AID's initial cryptographic keys and is constructed by combining:\n",
    "    - A Derivation Code: Indicates the cryptographic suite (key type, signature algorithm, hashing algorithm) used.\n",
    "    - The Encoded Public Key: A string derived from the public portions of the initially generated key pairs associated with the AID.\n",
    "\n",
    "**Prefix Self-Certification:**  \n",
    "KERI AIDs are [self-certifying](https://trustoverip.github.io/tswg-keri-specification/#self-certifying-identifier-scid) in the sense that an AID does not rely on a trusted entity and instead relies only on its public keys to provide verifiability for signed statements made by the controller of an AID. This self-certifying quality holds throughout the AID's lifecycle, from inception to all future events, such as rotations.\n",
    "\n",
    "This works because:\n",
    "1. The identifier's prefix is derived from the set of public keys that are included in the inception event. The prefix is the self addressing identifier (SAID), a kind of digest, of the inception event. This provides a strong cryptographic binding between the AID prefix and the keys used to generate the inception event.\n",
    "2. As validated rotation events occur, the AID's KEL is appended, which changes its effective Key-State. Key-State is a set of data that is time-dependent and includes the valid public signing keys and related data at a given point in time. The Key-State at a given point in time is derived from the KEL.\n",
    "3. Given any signed statement made by the AID controller, the set of public keys and related data from the Key-State as of the time of that signed statement is sufficient to verify its authenticity.\n",
    "\n",
    "Because of this relationship between keypairs, the inception event, and the key event log, anyone who has the prefix and the KEL can cryptographically verify signatures created by a given AID with the matching private keys (i.e., by the AID's controller) from any given point in the history of a KEL. This verifiability establishes authenticity for all actions taken by an AID without needing to check with outside authorities or registries, meaning they are self-certifying. \n",
    "\n",
    "### Security precaution for live transactions\n",
    "\n",
    "**Keep in mind, as a security precaution**, signature verification with a prefix and a KEL is most securely done with the most recent keys that are currently authorized for the AID, as in the latest key-state (i.e., set of keys given the inception and all rotations). Key rotation changes the authorized keys, requiring reference to the AID's KEL for up-to-date verification. Historical signatures may still be verified, yet to ensure proper security during a live transaction the latest controlling keypairs (pubic portions) should always be used for signature verification. \n",
    "\n",
    "This means signatures from old keypairs, during a live transaction, should always be rejected when verifying signatures of an in-progress transaction. Such an approach is appropriate because there is no way to know if an attacker has compromised old keypairs and is using old keys to sign the new transaction events. To adopt the highest security posture then usage of the latest keypairs according to the KEL should **always** be required."
   ]
  },
  {
   "cell_type": "markdown",
   "id": "adbac87f-5833-4d6d-9d8a-b06de0890e5a",
   "metadata": {
    "editable": false,
    "slideshow": {
     "slide_type": ""
    },
    "tags": []
   },
   "source": [
    "<div class=\"alert alert-prymary\">\n",
    "  <b>📝 SUMMARY</b><hr>\n",
    "    <li>The AID is the secure, self-managed identifier</li>\n",
    "    <li>The prefix is the actual text string you use to represent that AID, whose structure makes the AID's self-certifying property work</li>\n",
    "    <li>The alias (<code>my-first-aid</code> in our example) is just a <b>local</b> nickname within your keystore to easily refer to the prefix</li>\n",
    "    <li>The terms AID, identifier, prefix, and alias tend to be used interchangeably</li>\n",
    "</div>"
   ]
  },
  {
   "cell_type": "markdown",
   "id": "1cb5d143-114a-4a2b-b8bd-df9af4e4e4a1",
   "metadata": {
    "editable": false,
    "slideshow": {
     "slide_type": ""
    },
    "tags": []
   },
   "source": [
    "<div class=\"alert alert-info\">\n",
    "  <b>ℹ️ NOTE</b><hr>\n",
    "    As you may have figured out, most of the <code>kli</code> commands require a keystore. Assume from now on that <code>--name</code> and <code>--passcode</code> refer to the keystore access.  \n",
    "</div>"
   ]
  },
  {
   "cell_type": "markdown",
   "id": "b950114d-7c5d-49b0-982c-9531ee4c8f4d",
   "metadata": {
    "editable": false,
    "slideshow": {
     "slide_type": ""
    },
    "tags": []
   },
   "source": [
    "## Displaying Identifier Status\n",
    "You can check the status of the identifier you just created using `kli status` and its `alias`. This command will show details about the AID's current state, including its Alias, prefix, sequence number, public keys, and additional information. More details on what all this data means will be explained later"
   ]
  },
  {
   "cell_type": "code",
   "execution_count": 4,
   "id": "c98038a0-1d36-425f-9936-2a10afc95093",
   "metadata": {
    "editable": false,
    "slideshow": {
     "slide_type": ""
    },
    "tags": []
   },
   "outputs": [
    {
     "name": "stdout",
     "output_type": "stream",
     "text": [
      "Alias: \tmy-first-aid\n",
      "Identifier: BHt9Kw8oUgfB2kiyoj65B2VE5fZLr87S5MJP3l4JeRwC\n",
      "Seq No:\t0\n",
      "\n",
      "Witnesses:\n",
      "Count:\t\t0\n",
      "Receipts:\t0\n",
      "Threshold:\t0\n",
      "\n",
      "Public Keys:\t\n",
      "\t1. BHt9Kw8oUgfB2kiyoj65B2VE5fZLr87S5MJP3l4JeRwC\n",
      "\n"
     ]
    }
   ],
   "source": [
    "# Check the status of the AID using its alias\n",
    "!kli status --name {keystore_name} \\\n",
    "    --passcode {keystore_passcode} \\\n",
    "    --alias {aid_alias}"
   ]
  },
  {
   "cell_type": "markdown",
   "id": "23c6e4e1-2ac2-4969-a75e-78a9fcceaa12",
   "metadata": {
    "editable": false,
    "slideshow": {
     "slide_type": ""
    },
    "tags": []
   },
   "source": [
    "## Displaying Key Event Logs (KELs)\n",
    "You can use `kli status` with the `--verbose` parameter to show the key event log."
   ]
  },
  {
   "cell_type": "code",
   "execution_count": 5,
   "id": "49a334b9-b03b-457f-ae65-f29d2d74df0f",
   "metadata": {
    "editable": false,
    "slideshow": {
     "slide_type": ""
    },
    "tags": []
   },
   "outputs": [
    {
     "name": "stdout",
     "output_type": "stream",
     "text": [
      "Alias: \tmy-first-aid\n",
      "Identifier: BHt9Kw8oUgfB2kiyoj65B2VE5fZLr87S5MJP3l4JeRwC\n",
      "Seq No:\t0\n",
      "\n",
      "Witnesses:\n",
      "Count:\t\t0\n",
      "Receipts:\t0\n",
      "Threshold:\t0\n",
      "\n",
      "Public Keys:\t\n",
      "\t1. BHt9Kw8oUgfB2kiyoj65B2VE5fZLr87S5MJP3l4JeRwC\n",
      "\n",
      "\n",
      "Witnesses:\t\n",
      "\n",
      "{\n",
      " \"v\": \"KERI10JSON0000fd_\",\n",
      " \"t\": \"icp\",\n",
      " \"d\": \"EG23dnLAUA4ywPcu2qbokplb2cb1XlIOw24iIKYtR3v4\",\n",
      " \"i\": \"BHt9Kw8oUgfB2kiyoj65B2VE5fZLr87S5MJP3l4JeRwC\",\n",
      " \"s\": \"0\",\n",
      " \"kt\": \"1\",\n",
      " \"k\": [\n",
      "  \"BHt9Kw8oUgfB2kiyoj65B2VE5fZLr87S5MJP3l4JeRwC\"\n",
      " ],\n",
      " \"nt\": \"0\",\n",
      " \"n\": [],\n",
      " \"bt\": \"0\",\n",
      " \"b\": [],\n",
      " \"c\": [],\n",
      " \"a\": []\n",
      "}\n",
      "\n"
     ]
    }
   ],
   "source": [
    "!kli status --name {keystore_name} \\\n",
    "    --passcode {keystore_passcode} \\\n",
    "    --alias {aid_alias} \\\n",
    "    --verbose"
   ]
  },
  {
   "cell_type": "markdown",
   "id": "14df951f-808c-4009-a4d5-c017db233dbd",
   "metadata": {
    "editable": false,
    "slideshow": {
     "slide_type": ""
    },
    "tags": []
   },
   "source": [
    "Here are some descriptions of the KEL fields (see the [spec](https://trustoverip.github.io/tswg-keri-specification/#keri-data-structures-and-labels)):\n",
    "- `v`: Version String\n",
    "- `t`: Message type (`icp` means inception)\n",
    "- `i`: AID Prefix that created the event (\"issuer\" of the event)\n",
    "- `s`: sequence number of the event, always zero for the inception event since it is the first event\n",
    "- `kt`: Keys Signing Threshold (the `isith` value used in `kli inception`)\n",
    "- `k`: List of public keys that are Signing Keys (You get as many keys as defined by the `icount` value used in `kli inception`)\n",
    "- `nt`: Next Signing Threshold (rotation signing threshold), zero in this case. This will be explored in an upcoming lesson.\n",
    "- `n`: List of public key **digests** that are rotation keys authorized to perform rotations. Since there are no rotation keys specified here then this identifier may never rotate and may be considered to have rotated to \"null\" on its first event, meaning it can only ever be used for signing.\n",
    "- `bt`: Backer (witness) Threshold - the number of backer (witness) receipts the event must have in order to be considered accepted by the controller and valid.\n",
    "- `b`: Backer (witness) list - the AID prefixes of the backers (witnesses) that are authorized by the controller to generate witness receipts for this event and any after it, until changed by a rotation event.\n",
    "- `c`: configuration traits - not used here\n",
    "- `a`: anchors (seals) - list of field maps used to anchor data in a key event"
   ]
  },
  {
   "cell_type": "markdown",
   "id": "2a0dae91-fe70-4b32-8298-74f2be407442",
   "metadata": {
    "editable": false,
    "slideshow": {
     "slide_type": ""
    },
    "tags": []
   },
   "source": [
    "<div class=\"alert alert-info\">\n",
    "  <b>📚 REFERENCE</b><hr>\n",
    "    To see the full details of the key event fields, refer to <a href=\"https://trustoverip.github.io/tswg-keri-specification/#keri-data-structures-and-labels\" target=\"_blank\">KERI Data Structures and Labels</a> \n",
    "</div>"
   ]
  },
  {
   "cell_type": "markdown",
   "id": "60d014f8-2ce9-43a8-8ad1-e7f1004644b1",
   "metadata": {
    "editable": false,
    "slideshow": {
     "slide_type": ""
    },
    "tags": []
   },
   "source": [
    "## Listing Identifiers in a Keystore\n",
    "\n",
    "You can also list all the identifiers managed within this keystore. To illustrate this, let's create an additional Identifier"
   ]
  },
  {
   "cell_type": "code",
   "execution_count": 6,
   "id": "4fa59d37-5cbf-49f8-af85-92314ab64e2a",
   "metadata": {
    "editable": false,
    "slideshow": {
     "slide_type": ""
    },
    "tags": []
   },
   "outputs": [
    {
     "name": "stdout",
     "output_type": "stream",
     "text": [
      "Prefix  BBuVNJvbJD2WNduQ0JUGRVGb6uKYrF5bO5T4gdGt_ezO\n",
      "\tPublic key 1:  BBuVNJvbJD2WNduQ0JUGRVGb6uKYrF5bO5T4gdGt_ezO\n",
      "\n"
     ]
    }
   ],
   "source": [
    "!kli incept --name {keystore_name} \\\n",
    "    --passcode {keystore_passcode} \\\n",
    "    --alias \"my-second-aid\" \\\n",
    "    --icount 1 \\\n",
    "    --isith 1 \\\n",
    "    --ncount 0 \\\n",
    "    --nsith 0 \\\n",
    "    --toad 0"
   ]
  },
  {
   "cell_type": "markdown",
   "id": "1a55b4ff-797e-4907-b516-4d452eac8a0c",
   "metadata": {
    "editable": false,
    "slideshow": {
     "slide_type": ""
    },
    "tags": []
   },
   "source": [
    "Now use `kli list` to list all the identifiers managed by the keystore"
   ]
  },
  {
   "cell_type": "code",
   "execution_count": 7,
   "id": "83695668-da26-477d-a938-892355a9b150",
   "metadata": {
    "editable": false,
    "slideshow": {
     "slide_type": ""
    },
    "tags": []
   },
   "outputs": [
    {
     "name": "stdout",
     "output_type": "stream",
     "text": [
      "my-second-aid (BBuVNJvbJD2WNduQ0JUGRVGb6uKYrF5bO5T4gdGt_ezO)\n",
      "my-first-aid (BHt9Kw8oUgfB2kiyoj65B2VE5fZLr87S5MJP3l4JeRwC)\n"
     ]
    }
   ],
   "source": [
    "# List all Identifiers in the keystore\n",
    "!kli list --name {keystore_name} --passcode {keystore_passcode}"
   ]
  },
  {
   "cell_type": "markdown",
   "id": "e72f7a9f-54ab-4555-aaee-2244522eb17c",
   "metadata": {
    "editable": false,
    "slideshow": {
     "slide_type": ""
    },
    "tags": []
   },
   "source": [
    "![](images/two-aids.png)"
   ]
  },
  {
   "cell_type": "markdown",
   "id": "37d87916-77d6-425e-91e1-e2857f9615e9",
   "metadata": {
    "editable": false,
    "slideshow": {
     "slide_type": ""
    },
    "tags": []
   },
   "source": [
    "<div class=\"alert alert-primary\">\n",
    "  <b>📝 SUMMARY</b><hr>\n",
    "<p>The basics of managing KERI identifiers using the KLI:</p>\n",
    "<ul>\n",
    "    <li><strong>Keystore Creation:</strong> A keystore, essential for managing identifiers, is created using <code>kli init</code>, requiring a name, passcode, and salt</li>\n",
    "    <li><strong>Identifier Inception:</strong> New identifiers (AIDs) are created within a named keystore using <code>kli incept</code>, which also starts their Key Event Log (KEL)</li>\n",
    "    <li><strong>Key Event Log (KEL):</strong> The KEL tracks an AID's history with fields like version (<code>v</code>), event type (<code>t</code>), identifier prefix (<code>i</code>), signing threshold (<code>kt</code>), and keys (<code>k</code>)</li>\n",
    "    <li><strong>Displaying identifiers:</strong><code>kli status</code> displays an AID information and the KEL </li>\n",
    "    <li><strong>Listing Identifiers:</strong> The <code>kli list</code> command displays all identifiers managed within a specific keystore</li>\n",
    "</ul>\n",
    "</div>"
   ]
  },
  {
   "cell_type": "markdown",
   "id": "f9da8130-56c4-48d9-8c97-6ed80dff3b6c",
   "metadata": {
    "editable": false,
    "slideshow": {
     "slide_type": ""
    },
    "tags": []
   },
   "source": [
    "[<- Prev (Controllers and Identifiers)](101_15_Controllers_and_Identifiers.ipynb) | [Next (Signatures) ->](101_25_Signatures.ipynb)"
   ]
  }
 ],
 "metadata": {
  "kernelspec": {
   "display_name": "Python 3 (ipykernel)",
   "language": "python",
   "name": "python3"
  },
  "language_info": {
   "codemirror_mode": {
    "name": "ipython",
    "version": 3
   },
   "file_extension": ".py",
   "mimetype": "text/x-python",
   "name": "python",
   "nbconvert_exporter": "python",
   "pygments_lexer": "ipython3",
   "version": "3.12.9"
  }
 },
 "nbformat": 4,
 "nbformat_minor": 5
}
