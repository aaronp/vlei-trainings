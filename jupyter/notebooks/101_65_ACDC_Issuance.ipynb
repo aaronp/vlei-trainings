{
 "cells": [
  {
   "cell_type": "markdown",
   "id": "7ed2d75f-9bbc-4619-9970-a8c02cf4b73c",
   "metadata": {
    "editable": false,
    "slideshow": {
     "slide_type": ""
    },
    "tags": []
   },
   "source": [
    "# ACDC Issuance with KLI: Using the IPEX Protocol"
   ]
  },
  {
   "cell_type": "markdown",
   "id": "9868e7d5-89ec-4f3a-98ef-36cc2a6b290d",
   "metadata": {
    "editable": false,
    "slideshow": {
     "slide_type": ""
    },
    "tags": []
   },
   "source": [
    "<div class=\"alert alert-primary\">\n",
    "<b>🎯 OBJECTIVE</b><hr>\n",
    "Demonstrate the process of issuing an Authentic Chained Data Container (ACDC), also known as a Verifiable Credential (VC), from an Issuer to a Holder using the Issuance and Presentation Exchange (IPEX) protocol.\n",
    "</div> "
   ]
  },
  {
   "cell_type": "markdown",
   "id": "31e4f9aa-ba6d-4625-814e-d5faf53803c2",
   "metadata": {
    "editable": false,
    "slideshow": {
     "slide_type": ""
    },
    "tags": []
   },
   "source": [
    "## Prerequisites: Issuer and Holder Setup\n",
    "\n",
    "Authentic Chained Data Containers (ACDCs) are KERI's implementation of verifiable credentials. They allow entities (controllers) to issue cryptographically verifiable statements (credentials) about subjects (often other controllers) according to predefined structures (schemas). These credentials can then be presented to verifiers to prove claims.\n",
    "\n",
    "This notebook focuses on the issuance part of the workflow: how an Issuer creates an ACDC and securely delivers it to a Holder. We will use the Issuance and Presentation Exchange (IPEX) protocol, which defines a standard way to handle the offering and acceptance of ACDCs between KERI controllers.\n",
    "\n",
    "Before any credential issuance can happen, both the entity that will issue the credential (the Issuer) and the entity that will receive it (the Holder) need to have their own KERI Autonomic Identifiers established. This involves initializing their respective keystores and creating their AIDs."
   ]
  },
  {
   "cell_type": "markdown",
   "id": "4d7594dd-a571-466e-b23e-b8b9049431af",
   "metadata": {
    "editable": false,
    "slideshow": {
     "slide_type": ""
    },
    "tags": []
   },
   "source": [
    "### Holder AID Setup\n",
    "\n",
    "This should be familiar by now; you initialize a keystore and incept the AID for the holder of the credential. "
   ]
  },
  {
   "cell_type": "markdown",
   "id": "f86fec71-9e35-4bb6-b1da-8929ebdb9e2b",
   "metadata": {
    "editable": false,
    "slideshow": {
     "slide_type": ""
    },
    "tags": []
   },
   "source": [
    "<div class=\"alert alert-info\">\n",
    "  <b>ℹ️ NOTE:</b>\n",
    "The <code>exec</code> function executes a shell command within an IPython/Jupyter session and returns its output as a string. This is useful for assigning output values to variables for later use.\n",
    "</div>\n"
   ]
  },
  {
   "cell_type": "code",
   "execution_count": 1,
   "id": "0497f20c-e367-4b8f-9106-a28756ffa405",
   "metadata": {
    "editable": false,
    "slideshow": {
     "slide_type": ""
    },
    "tags": []
   },
   "outputs": [
    {
     "name": "stdout",
     "output_type": "stream",
     "text": [
      "Proceeding with deletion of '/usr/local/var/keri/' without confirmation.\n",
      "✅ Successfully removed: /usr/local/var/keri/\n",
      "KERI Keystore created at: /usr/local/var/keri/ks/holder_ks\n",
      "KERI Database created at: /usr/local/var/keri/db/holder_ks\n",
      "KERI Credential Store created at: /usr/local/var/keri/reg/holder_ks\n",
      "\taeid: BNzTxzs8bI6uk-Wq-IxMt7swODv1qrPdbHDp0gZ_U_-R\n",
      "\n",
      "Loading 3 OOBIs...\n",
      "http://witness-demo:5642/oobi/BBilc4-L3tFUnfM_wJr4S4OJanAv_VmF_dJNN6vkf2Ha/controller?name=Wan&tag=witness succeeded\n",
      "http://witness-demo:5643/oobi/BLskRTInXnMxWaGqcpSyMgo0nYbalW99cGZESrz3zapM/controller?name=Wes&tag=witness succeeded\n",
      "http://witness-demo:5644/oobi/BIKKuvBwpmDVA4Ds-EpL5bt9OqPzWPja2LigFYZN2YfX/controller?name=Wil&tag=witness succeeded\n",
      "Waiting for witness receipts...\n",
      "Prefix  ELweyoMvufQlbYaly1c1F5s8K0CunB6mtJqeKGYdxouC\n",
      "\tPublic key 1:  DNZHmjOduYlE9zdgvSxbc42l5-Gz9k7wk7N_5_7Ox0N_\n",
      "\n"
     ]
    }
   ],
   "source": [
    "from scripts.utils import exec\n",
    "from scripts.utils import clear_keri\n",
    "\n",
    "clear_keri()\n",
    "\n",
    "holder_keystore_name = \"holder_ks\"\n",
    "\n",
    "holder_keystore_passcode = exec(\"kli passcode generate\")\n",
    "\n",
    "holder_keystore_salt = exec(\"kli salt\")\n",
    "# Alias for our non-transferable AID\n",
    "holder_aid = \"holder_aid\"\n",
    "\n",
    "# Initialize the keystore\n",
    "!kli init --name {holder_keystore_name} --passcode {holder_keystore_passcode} --salt {holder_keystore_salt}\\\n",
    "    --config-dir ./config \\\n",
    "    --config-file keystore_init_config.json\n",
    "\n",
    "!kli incept --name {holder_keystore_name} --alias {holder_aid} --passcode {holder_keystore_passcode} \\\n",
    "    --file ./config/aid_inception_config.json"
   ]
  },
  {
   "cell_type": "markdown",
   "id": "8ee00c85-84ed-4160-a873-040939e22c43",
   "metadata": {
    "editable": false,
    "slideshow": {
     "slide_type": ""
    },
    "tags": []
   },
   "source": [
    "### Issuer AID Setup\n",
    "\n",
    "Perform the same initialization and inception process for the Issuer. The Issuer is the entity that will create and sign the credential."
   ]
  },
  {
   "cell_type": "code",
   "execution_count": 2,
   "id": "8bdb02d4-c04b-4d06-a9b0-128262ea6c9e",
   "metadata": {
    "editable": false,
    "slideshow": {
     "slide_type": ""
    },
    "tags": []
   },
   "outputs": [
    {
     "name": "stdout",
     "output_type": "stream",
     "text": [
      "KERI Keystore created at: /usr/local/var/keri/ks/issuer_ks\n",
      "KERI Database created at: /usr/local/var/keri/db/issuer_ks\n",
      "KERI Credential Store created at: /usr/local/var/keri/reg/issuer_ks\n",
      "\taeid: BPpvqxfkNLoytHx5EudeyPk_l6P-M1oQArZ8wzBoLfga\n",
      "\n",
      "Loading 3 OOBIs...\n",
      "http://witness-demo:5642/oobi/BBilc4-L3tFUnfM_wJr4S4OJanAv_VmF_dJNN6vkf2Ha/controller?name=Wan&tag=witness succeeded\n",
      "http://witness-demo:5643/oobi/BLskRTInXnMxWaGqcpSyMgo0nYbalW99cGZESrz3zapM/controller?name=Wes&tag=witness succeeded\n",
      "http://witness-demo:5644/oobi/BIKKuvBwpmDVA4Ds-EpL5bt9OqPzWPja2LigFYZN2YfX/controller?name=Wil&tag=witness succeeded\n",
      "Waiting for witness receipts...\n",
      "Prefix  EMGUWw8njcoiIBsgJZj39TJ-Pm8aSR-UIMVaVZM2qodh\n",
      "\tPublic key 1:  DGb5LiSlzC90hVdL8xKuoT8Zo5Bhmj-u3_nNF-C6jXoA\n",
      "\n"
     ]
    }
   ],
   "source": [
    "# Issuer setup\n",
    "issuer_keystore_name = \"issuer_ks\"\n",
    "\n",
    "issuer_keystore_passcode = exec(\"kli passcode generate\")\n",
    "\n",
    "issuer_keystore_salt = exec(\"kli salt\")\n",
    "# Alias for our non-transferable AID\n",
    "issuer_aid = \"issuer_aid\"\n",
    "\n",
    "# Initialize the keystore\n",
    "!kli init --name {issuer_keystore_name} --passcode {issuer_keystore_passcode} --salt {issuer_keystore_salt}\\\n",
    "    --config-dir ./config \\\n",
    "    --config-file keystore_init_config.json\n",
    "\n",
    "!kli incept --name {issuer_keystore_name} --passcode {issuer_keystore_passcode} --alias {issuer_aid}  \\\n",
    "    --file ./config/aid_inception_config.json"
   ]
  },
  {
   "cell_type": "markdown",
   "id": "1713e2f0-49f9-4cd7-8c5a-2303085f57d0",
   "metadata": {
    "editable": false,
    "slideshow": {
     "slide_type": ""
    },
    "tags": []
   },
   "source": [
    "### Establishing Issuer-Holder Connection (OOBI)\n",
    "\n",
    "For the Issuer to send a credential to the Holder, they first need to discover each other's key state (KEL - Key Event Log). This is done using Out-of-Band Introductions (OOBIs) using witness URLs. This works because a controller's witness maintains a copy of the controller's KEL that may be retrieved by other controllers. Each controller generates an OOBI URL pointing to one of its witnesses. They then exchange these OOBIs (typically through a separate channel, hence \"out-of-band\") and resolve them. Resolving an OOBI allows a controller to securely fetch and verify the KEL of the other controller via the specified witness.   \n",
    "\n",
    "For brevity we skip the challenge/response step which may be used to further authenticate each controller's possession of the private keys associated with their AIDs."
   ]
  },
  {
   "cell_type": "code",
   "execution_count": 3,
   "id": "5cddc486-a738-4df9-aa9b-0bb1bdbb9e84",
   "metadata": {
    "editable": false,
    "slideshow": {
     "slide_type": ""
    },
    "tags": []
   },
   "outputs": [
    {
     "name": "stdout",
     "output_type": "stream",
     "text": [
      "http://witness-demo:5642/oobi/EMGUWw8njcoiIBsgJZj39TJ-Pm8aSR-UIMVaVZM2qodh/witness resolved\n",
      "http://witness-demo:5642/oobi/ELweyoMvufQlbYaly1c1F5s8K0CunB6mtJqeKGYdxouC/witness resolved\n"
     ]
    }
   ],
   "source": [
    "holder_oobi_gen = f\"kli oobi generate --name {holder_keystore_name} --alias {holder_aid} --passcode {holder_keystore_passcode} --role witness\"\n",
    "holder_oobi = exec(holder_oobi_gen)\n",
    "\n",
    "issuer_oobi_gen = f\"kli oobi generate --name {issuer_keystore_name} --alias {issuer_aid} --passcode {issuer_keystore_passcode} --role witness\"\n",
    "issuer_oobi = exec(issuer_oobi_gen)\n",
    "\n",
    "!kli oobi resolve --name {holder_keystore_name} --passcode {holder_keystore_passcode} --oobi-alias {issuer_aid} \\\n",
    "    --oobi {issuer_oobi}\n",
    "\n",
    "!kli oobi resolve --name {issuer_keystore_name} --passcode {issuer_keystore_passcode} --oobi-alias {holder_aid}\\\n",
    "    --oobi {holder_oobi}"
   ]
  },
  {
   "cell_type": "markdown",
   "id": "66089e8d-8119-4856-bd8a-524b63fce27e",
   "metadata": {
    "editable": false,
    "slideshow": {
     "slide_type": ""
    },
    "tags": []
   },
   "source": [
    "### Creating the Issuer's Credential Registry\n",
    "\n",
    "To issue ACDCs, the Issuer needs a Credential Registry. Think of this as a dedicated log, managed by the Issuer's AID, specifically for tracking the status (like issuance and revocation) of the credentials it manages. The registry itself has an identifier (a SAID, derived from its inception event) and its history is maintained in a Transaction Event Log (TEL). Anchoring events from the TEL into the Issuer's main KEL ensures the registry's state changes are secured by the Issuer's controlling keys.   \n",
    "\n",
    "Use `kli vc registry incept` to create a new registry named `issuer_registry` controlled by the Issuer's AID (issuer_aid)."
   ]
  },
  {
   "cell_type": "code",
   "execution_count": 4,
   "id": "97af974c-f638-427d-9eb2-05727ded10fa",
   "metadata": {
    "editable": false,
    "slideshow": {
     "slide_type": ""
    },
    "tags": []
   },
   "outputs": [
    {
     "name": "stdout",
     "output_type": "stream",
     "text": [
      "Waiting for TEL event witness receipts\n",
      "Sending TEL events to witnesses\n",
      "Registry:  issuer_registry(EIKJjrjDrLxk225ZCLd33MX6KSBxH2yAiOiV9Y75bYxS) \n",
      "\tcreated for Identifier Prefix:  EMGUWw8njcoiIBsgJZj39TJ-Pm8aSR-UIMVaVZM2qodh\n"
     ]
    }
   ],
   "source": [
    "issuer_registry_name=\"issuer_registry\"\n",
    "\n",
    "!kli vc registry incept --name {issuer_keystore_name} \\\n",
    "    --passcode {issuer_keystore_passcode} \\\n",
    "    --alias {issuer_aid} \\\n",
    "    --registry-name {issuer_registry_name}"
   ]
  },
  {
   "cell_type": "markdown",
   "id": "af1ad965-58ce-4936-b67a-ada6e01d6331",
   "metadata": {
    "editable": false,
    "slideshow": {
     "slide_type": ""
    },
    "tags": []
   },
   "source": [
    "To query the status of a registry, use the command `kli vc registry status`. This shows the registry's SAID, its current sequence number (how many events have occurred in its TEL), and the controlling AID."
   ]
  },
  {
   "cell_type": "code",
   "execution_count": 5,
   "id": "50210a7e-bc51-4075-8907-4c80d64faaf6",
   "metadata": {
    "editable": false,
    "slideshow": {
     "slide_type": ""
    },
    "tags": []
   },
   "outputs": [
    {
     "name": "stdout",
     "output_type": "stream",
     "text": [
      "Registry:  EIKJjrjDrLxk225ZCLd33MX6KSBxH2yAiOiV9Y75bYxS\n",
      "Seq No.  0\n",
      "    Controlling Identifier:  EMGUWw8njcoiIBsgJZj39TJ-Pm8aSR-UIMVaVZM2qodh\n",
      "\n",
      "Backers: Not supported\n",
      "Events:\tInteraction Allowed\n",
      "\n"
     ]
    }
   ],
   "source": [
    "!kli vc registry status --name {issuer_keystore_name} \\\n",
    "    --passcode {issuer_keystore_passcode} \\\n",
    "    --registry-name {issuer_registry_name} "
   ]
  },
  {
   "cell_type": "markdown",
   "id": "5bdedefb-33fb-4046-9767-f8f047c08203",
   "metadata": {
    "editable": false,
    "slideshow": {
     "slide_type": ""
    },
    "tags": []
   },
   "source": [
    "## Schema preparation\n",
    "\n",
    "As seen before, you need a schema to issue credentials. A schema defines the structure and data types for a specific kind of credential, ensuring consistency and enabling automated validation. \n",
    "\n",
    "For this example, we have prepared a schema to simulate an access pass for a GLEIF Summit event. It defines the expected attributes for such a pass\n",
    "\n",
    "```json\n",
    "\"eventName\": {\n",
    "  \"description\": \"The event name\",\n",
    "  \"type\": \"string\"\n",
    "},\n",
    "\"accessLevel\": {\n",
    "  \"description\": \"staff/speaker/attendee\",\n",
    "  \"type\": \"string\",\n",
    "  \"enum\": [\n",
    "    \"staff\",\n",
    "    \"speaker\",\n",
    "    \"attendee\"\n",
    "  ]\n",
    "},\n",
    "\"validDate\": {\n",
    "  \"description\": \"Valid date yyyy-mm-dd\",\n",
    "  \"type\": \"string\"\n",
    "}\n",
    "```\n",
    "\n",
    "To see the full schema, click **[here](config/schemas/event_pass_schema.bak.json)**.  "
   ]
  },
  {
   "cell_type": "markdown",
   "id": "caa9ea9d-ac45-4621-a0c1-d9ef7527a9cd",
   "metadata": {
    "editable": false,
    "slideshow": {
     "slide_type": ""
    },
    "tags": []
   },
   "source": [
    "### SAIDifying the Credential Schema\n",
    "\n",
    "You might notice the  **[schema file](config/schemas/event_pass_schema.bak.json)** doesn't yet have SAIDs embedded within it. As done before, use the helper script to perform this process, taking the `event_pass_schema.bak.json` file as input and outputting the SAIDified version to `event_pass_schema.json`.\n",
    "\n",
    "Additionally, capture the top-level SAID of the schema using the function `get_schema_said`"
   ]
  },
  {
   "cell_type": "code",
   "execution_count": null,
   "id": "3887e5dd-68c2-442c-bbdc-87c54ba81c2c",
   "metadata": {
    "editable": false,
    "slideshow": {
     "slide_type": ""
    },
    "tags": []
   },
   "outputs": [],
   "source": [
    "# Imports and Utility functions\n",
    "from scripts.saidify import process_schema_file, get_schema_said\n",
    "\n",
    "process_schema_file(\"config/schemas/event_pass_schema.bak.json\", \"config/schemas/event_pass_schema.json\") \n",
    "\n",
    "schema_said = get_schema_said(\"config/schemas/event_pass_schema.json\")\n",
    "\n",
    "print(schema_said)\n"
   ]
  },
  {
   "cell_type": "markdown",
   "id": "3761da26-46ff-4f68-b273-4342340df5b9",
   "metadata": {
    "editable": false,
    "slideshow": {
     "slide_type": ""
    },
    "tags": []
   },
   "source": [
    "You can view the complete, SAIDified schema definition **[here](config/schemas/event_pass_schema.json)**. Notice the `$id` fields are now populated with SAIDs.\n"
   ]
  },
  {
   "cell_type": "markdown",
   "id": "f60523e9-e45a-4744-a53c-11d46178e222",
   "metadata": {
    "editable": false,
    "slideshow": {
     "slide_type": ""
    },
    "tags": []
   },
   "source": [
    "### Making the Schema Discoverable\n",
    "\n",
    "After the schema has been SAIDified, it needs to be made available so that any party needing it (like the Issuer and Holder) can retrieve and verify it. In KERI, discovery often happens via OOBIs.\n",
    "\n",
    "For this tutorial, we use a simple service called **vLEI-server**, which acts as a basic schema cache. It's essentially an HTTP file server pre-loaded with the SAIDified schema. It exposes an OOBI URL endpoint for each schema it holds, allowing controllers to resolve the schema using its SAID.\n",
    "\n",
    "This has already been prepared, so you can query the schema directly from the vLEI-server using its SAID via a simple HTTP request."
   ]
  },
  {
   "cell_type": "code",
   "execution_count": 6,
   "id": "fb396f82-a206-42b9-858d-fe9ce5f19296",
   "metadata": {
    "editable": false,
    "slideshow": {
     "slide_type": ""
    },
    "tags": []
   },
   "outputs": [],
   "source": [
    "!curl -s http://vlei-server:7723/oobi/{schema_said}"
   ]
  },
  {
   "cell_type": "markdown",
   "id": "4a01b51b-96dc-465d-9ed8-d346e3237bf1",
   "metadata": {
    "editable": false,
    "slideshow": {
     "slide_type": ""
    },
    "tags": []
   },
   "source": [
    "### Resolving the Schema OOBI\n",
    "\n",
    "Both the Issuer and the Holder need to know the schema definition to understand the structure of the credential being issued/received. They achieve this by resolving the schema's OOBI URL provided by the `vLEI-server`."
   ]
  },
  {
   "cell_type": "code",
   "execution_count": null,
   "id": "4740c92f-1f44-458d-9f68-212ddd0f5ee7",
   "metadata": {
    "editable": false,
    "slideshow": {
     "slide_type": ""
    },
    "tags": []
   },
   "outputs": [],
   "source": [
    "schema_oobi_alias = \"schema_oobi\"\n",
    "schema_oobi = f\"http://vlei-server:7723/oobi/{schema_said}\"\n",
    "\n",
    "!kli oobi resolve --name {holder_keystore_name} --passcode {holder_keystore_passcode} --oobi-alias {schema_oobi_alias} \\\n",
    "    --oobi {schema_oobi}\n",
    "\n",
    "!kli oobi resolve --name {issuer_keystore_name} --passcode {issuer_keystore_passcode} --oobi-alias {schema_oobi_alias}\\\n",
    "    --oobi {schema_oobi}"
   ]
  },
  {
   "cell_type": "markdown",
   "id": "6f37ca3e-fc37-477a-b0aa-1c8d77e8a64a",
   "metadata": {
    "editable": false,
    "slideshow": {
     "slide_type": ""
    },
    "tags": []
   },
   "source": [
    "## Credential Creation Process\n",
    "\n",
    "With the Issuer and Holder identities established, connected via OOBI, the Issuer registry created, and the schema SAIDified and resolved, we are now ready to actually create the credential."
   ]
  },
  {
   "cell_type": "markdown",
   "id": "828cba6b-1357-42f7-9629-245afcd5c16e",
   "metadata": {
    "editable": false,
    "slideshow": {
     "slide_type": ""
    },
    "tags": []
   },
   "source": [
    "### Step 1: Defining Credential Attributes\n",
    "\n",
    "To create a specific credential instance, you must provide the actual values for the attributes defined in the schema (eventName, accessLevel, validDate). These values are typically provided in a separate data file (e.g., JSON), which is then referenced by the `kli vc create command`.\n",
    "\n",
    "Here's the data for the specific event pass we're issuing:"
   ]
  },
  {
   "cell_type": "code",
   "execution_count": null,
   "id": "a7f987da-192b-41d1-84b3-7e3f1714c685",
   "metadata": {
    "editable": false,
    "slideshow": {
     "slide_type": ""
    },
    "tags": []
   },
   "outputs": [],
   "source": [
    "!cat config/credential_data/event_pass_cred_data.json"
   ]
  },
  {
   "cell_type": "markdown",
   "id": "7562c490-5c87-4c8d-b52c-1081c678f732",
   "metadata": {
    "editable": false,
    "slideshow": {
     "slide_type": ""
    },
    "tags": []
   },
   "source": [
    "### Step 2: Creating the Credential\n",
    "\n",
    "The `kli vc create` command is used by the Issuer to generate the ACDC. Let's break down the parameters:   \n",
    "- `--name`, `--passcode`, and `--alias`: Identify the Issuer's keystore and the specific AID within that keystore that will act as the credential issuer.\n",
    "- `--registry-name`: Specifies the credential registry the Issuer will use to manage this credential's lifecycle (issuance/revocation).   \n",
    "- `--schema`: Provides the SAID of the ACDC schema (event_pass_schema.json in this case) that defines the structure of this credential.   \n",
    "- `--recipient`: Specifies the AID of the entity the credential is about (the Holder/subject).   \n",
    "- `--data`: Points to the file containing the specific attribute values for this credential instance (@ indicates it's a file path).   \n",
    "- `--time`: Provides an issuance timestamp for the credential.\n",
    "\n",
    "Executing this command creates the credential, generates its SAID, and records an issuance event in the specified registry's TEL, anchoring it to the Issuer's KEL."
   ]
  },
  {
   "cell_type": "code",
   "execution_count": null,
   "id": "756b2a82-f271-42ca-879e-002380119feb",
   "metadata": {
    "editable": false,
    "slideshow": {
     "slide_type": ""
    },
    "tags": []
   },
   "outputs": [],
   "source": [
    "time = exec(\"kli time\")\n",
    "\n",
    "!kli vc create --name {issuer_keystore_name} --passcode {issuer_keystore_passcode} \\\n",
    "    --alias {issuer_aid} \\\n",
    "    --registry-name {issuer_registry_name} \\\n",
    "    --schema {schema_said} \\\n",
    "    --recipient {holder_aid} \\\n",
    "    --data \"@./config/credential_data/event_pass_cred_data.json\" \\\n",
    "    --time {time}"
   ]
  },
  {
   "cell_type": "markdown",
   "id": "38ff953a-d746-4b68-815a-5b47039992e9",
   "metadata": {
    "editable": false,
    "slideshow": {
     "slide_type": ""
    },
    "tags": []
   },
   "source": [
    "### Viewing the Issued Credential\n",
    "\n",
    "The kli vc list command allows the Issuer to see the credentials they have issued. The `--issued` flag specifies listing issued credentials, and `--verbose` shows the full credential content."
   ]
  },
  {
   "cell_type": "code",
   "execution_count": null,
   "id": "c531d591-80dc-4670-8968-72a549eea80a",
   "metadata": {
    "editable": false,
    "slideshow": {
     "slide_type": ""
    },
    "tags": []
   },
   "outputs": [],
   "source": [
    "!kli vc list  --name {issuer_keystore_name} \\\n",
    "    --passcode {issuer_keystore_passcode} \\\n",
    "    --issued \\\n",
    "    --verbose"
   ]
  },
  {
   "cell_type": "markdown",
   "id": "0fae281b-83c8-473d-9fb7-ad5850e2ae49",
   "metadata": {
    "editable": false,
    "slideshow": {
     "slide_type": ""
    },
    "tags": []
   },
   "source": [
    "Notice the structure of the credential JSON:   \n",
    "- `v`: Version string for the ACDC format and serialization.\n",
    "- `d`: The SAID of this specific credential instance.\n",
    "- `i`: The Issuer's AID.\n",
    "- `ri`: The SAID of the credential registry used.\n",
    "- `s`: The SAID of the schema used.\n",
    "- `a`: The attributes block, containing:\n",
    "- `d`: The SAID of the attributes block itself.\n",
    "- `i`: The Issuee's (Holder's) AID.\n",
    "- `dt`: The issuance date/time.\n",
    "- `eventName`, `accessLevel`, and `validDate`: The specific data for this credential."
   ]
  },
  {
   "cell_type": "markdown",
   "id": "fe7b3ab5-3c1b-425f-ada9-3a317bfd9efd",
   "metadata": {
    "editable": false,
    "slideshow": {
     "slide_type": ""
    },
    "tags": []
   },
   "source": [
    "### Retrieving the Credential's SAID\n",
    "\n",
    "You need to retrieve the credential's SAID (`d` field) to use it as the identifier in the subsequent IPEX steps. Use `kli vc list` again, but add the `--said` flag to return only the SAID of the matching credential(s)."
   ]
  },
  {
   "cell_type": "code",
   "execution_count": null,
   "id": "0d1ab540-957b-417f-8249-1ec41bfe18fc",
   "metadata": {
    "editable": false,
    "slideshow": {
     "slide_type": ""
    },
    "tags": []
   },
   "outputs": [],
   "source": [
    "get_credential_said = f\"kli vc list --name {issuer_keystore_name}\\\n",
    "    --passcode {issuer_keystore_passcode} --alias {issuer_aid}\\\n",
    "    --issued --schema {schema_said}\\\n",
    "    --said\"\n",
    "credential_said=exec(get_credential_said)\n",
    "\n",
    "print(credential_said)"
   ]
  },
  {
   "cell_type": "markdown",
   "id": "69dc3402-07b5-4721-8589-bcd2d514d4cc",
   "metadata": {
    "editable": false,
    "slideshow": {
     "slide_type": ""
    },
    "tags": []
   },
   "source": [
    "## Issuing the Credential to the Holder via IPEX\n",
    "\n",
    "At this point, the ACDC has been created and recorded in the Issuer's registry, but it still needs to be provided to the Holder. To do so, we use the **Issuance and Presentation Exchange (IPEX) protocol**. IPEX defines a message-based workflow for offering, accepting, or rejecting credentials."
   ]
  },
  {
   "cell_type": "markdown",
   "id": "a3bf5189-e0cc-45ed-bbe2-f23a0674c6e0",
   "metadata": {
    "editable": false,
    "slideshow": {
     "slide_type": ""
    },
    "tags": []
   },
   "source": [
    "### Step 1: Issuer Sends Grant Message\n",
    "\n",
    "The Issuer (acting as the \"Discloser\" in IPEX terms) initiates the issuance by sending a grant message to the Holder (the \"Disclosee\"). The `kli ipex grant` command facilitates this.   \n",
    "\n",
    "The parameters are:\n",
    "\n",
    "- `--name`, `--passcode`, and `--alias`: Identify the Issuer's keystore and AID.\n",
    "- `--said`: The SAID of the credential being granted (which we retrieved in the previous step).\n",
    "- `--recipient`: The AID of the Holder who should receive the credential offer.\n",
    "- `--time`: A timestamp for the grant message.\n",
    "\n",
    "This command sends an IPEX grant message containing the credential data to the Holder's KERI mailbox (managed via witnesses)."
   ]
  },
  {
   "cell_type": "code",
   "execution_count": null,
   "id": "1552863b-e000-4680-afb9-8f1b9a1883ba",
   "metadata": {
    "editable": false,
    "slideshow": {
     "slide_type": ""
    },
    "tags": []
   },
   "outputs": [],
   "source": [
    "time = exec(\"kli time\")\n",
    "\n",
    "!kli ipex grant \\\n",
    "    --name {issuer_keystore_name} \\\n",
    "    --passcode {issuer_keystore_passcode} \\\n",
    "    --alias {issuer_aid} \\\n",
    "    --said {credential_said} \\\n",
    "    --recipient {holder_aid} \\\n",
    "    --time {time}"
   ]
  },
  {
   "cell_type": "markdown",
   "id": "36e315a0-a636-4b12-bc76-85518a09767b",
   "metadata": {
    "editable": false,
    "slideshow": {
     "slide_type": ""
    },
    "tags": []
   },
   "source": [
    "**Issuer Views Sent Messages (Optional)**\n",
    "\n",
    "This step isn't strictly required for the workflow but allows the Issuer to view the IPEX messages they have sent using `kli ipex list --sent`. This can be useful for debugging or tracking the state of exchanges. It shows the GRANT message SAID and details about the credential offered."
   ]
  },
  {
   "cell_type": "code",
   "execution_count": null,
   "id": "f496e33b-9559-4281-bf92-f3a6ed6a1171",
   "metadata": {
    "editable": false,
    "slideshow": {
     "slide_type": ""
    },
    "tags": []
   },
   "outputs": [],
   "source": [
    "!kli ipex list --name {issuer_keystore_name} \\\n",
    "    --passcode {issuer_keystore_passcode} \\\n",
    "    --alias {issuer_aid} \\\n",
    "    --sent"
   ]
  },
  {
   "cell_type": "markdown",
   "id": "3f27c31a-21bd-45c9-b6c9-7210ceadef7e",
   "metadata": {
    "editable": false,
    "slideshow": {
     "slide_type": ""
    },
    "tags": []
   },
   "source": [
    "### Step 2: Holder Receives Grant Message\n",
    "\n",
    "The Holder needs to check their KERI mailbox for incoming messages. The `kli ipex list --poll` command checks for new IPEX messages. Use `--said` again to extract just the SAID of the received grant message, which is needed for the next step (accepting the credential)."
   ]
  },
  {
   "cell_type": "code",
   "execution_count": null,
   "id": "d4172a81-403a-47ad-904d-c8be644d9a6c",
   "metadata": {
    "editable": false,
    "slideshow": {
     "slide_type": ""
    },
    "tags": []
   },
   "outputs": [],
   "source": [
    "get_ipex_said=f\"kli ipex list --name {holder_keystore_name}\\\n",
    "  --passcode {holder_keystore_passcode} --alias {holder_aid}\\\n",
    "  --poll\\\n",
    "  --said\"\n",
    "ipex_said=exec(get_ipex_said)\n",
    "\n",
    "print(ipex_said)\n"
   ]
  },
  {
   "cell_type": "markdown",
   "id": "bb3bc719-2a02-4804-bd2f-801f9e8c0c9f",
   "metadata": {
    "editable": false,
    "slideshow": {
     "slide_type": ""
    },
    "tags": []
   },
   "source": [
    "**Holder Views Received Messages (Optional)**\n",
    "\n",
    "Similar to the Issuer checking sent messages, the Holder can use `kli ipex list` (without `--sent`) to view received IPEX messages. This confirms receipt of the GRANT offer from the Issuer."
   ]
  },
  {
   "cell_type": "code",
   "execution_count": null,
   "id": "494c435c-2b32-4475-8ad0-7613e307d2e6",
   "metadata": {
    "editable": false,
    "slideshow": {
     "slide_type": ""
    },
    "tags": []
   },
   "outputs": [],
   "source": [
    "!kli ipex list --name {holder_keystore_name} \\\n",
    "    --passcode {holder_keystore_passcode} \\\n",
    "    --alias {holder_aid} "
   ]
  },
  {
   "cell_type": "markdown",
   "id": "efdd8f12-f41b-4b77-baf9-758daab9f22a",
   "metadata": {
    "editable": false,
    "slideshow": {
     "slide_type": ""
    },
    "tags": []
   },
   "source": [
    "### Step 3: Holder Admits Credential\n",
    "\n",
    "Now that the Holder has received the `grant` message (identified by `ipex_said`), they can choose to accept the credential using the `kli ipex admit` command.   \n",
    "\n",
    "- `--name`, `--passcode`, and `--alias`: Identify the Holder's keystore and AID.\n",
    "- `--said`: The SAID of the grant message being admitted.\n",
    "- `--time`: A timestamp for the admit message.  \n",
    "\n",
    "This sends an `admit` message back to the Issuer, confirming acceptance. The Holder's KERI controller automatically verifies the credential against its schema and the Issuer's KEL upon admitting it, and then stores the credential securely."
   ]
  },
  {
   "cell_type": "code",
   "execution_count": null,
   "id": "2bc2bc8d-d200-4f24-89be-01c7639d4b4e",
   "metadata": {
    "editable": false,
    "slideshow": {
     "slide_type": ""
    },
    "tags": []
   },
   "outputs": [],
   "source": [
    "time = exec(\"kli time\")\n",
    "\n",
    "!kli ipex admit \\\n",
    "    --name {holder_keystore_name} \\\n",
    "    --passcode {holder_keystore_passcode} \\\n",
    "    --alias {holder_aid} \\\n",
    "    --said {ipex_said} \\\n",
    "    --time {time}"
   ]
  },
  {
   "cell_type": "markdown",
   "id": "5aabeb08-1044-41ca-9047-0bde956cd1cc",
   "metadata": {
    "editable": false,
    "slideshow": {
     "slide_type": ""
    },
    "tags": []
   },
   "source": [
    "**Holder Views Sent Admit Message (Optional)**\n",
    "\n",
    "The Holder can optionally check their sent IPEX messages to confirm the `ADMIT` message was sent."
   ]
  },
  {
   "cell_type": "code",
   "execution_count": null,
   "id": "a759cf19-b96b-4c8c-abaf-f2b32dad59a8",
   "metadata": {
    "editable": false,
    "slideshow": {
     "slide_type": ""
    },
    "tags": []
   },
   "outputs": [],
   "source": [
    "!kli ipex list --name {holder_keystore_name} \\\n",
    "    --passcode {holder_keystore_passcode} \\\n",
    "    --alias {holder_aid} \\\n",
    "    --sent"
   ]
  },
  {
   "cell_type": "markdown",
   "id": "59e68492-36db-4325-8bf8-f550ef346413",
   "metadata": {
    "editable": false,
    "slideshow": {
     "slide_type": ""
    },
    "tags": []
   },
   "source": [
    "### Step 4: Holder Verifies Possession\n",
    "\n",
    "The issuance process is complete! The Holder now possesses the verifiable credential. They can view it using kli vc list --verbose. The output will be similar to when the Issuer listed the issued credential, confirming the Holder has successfully received and stored the ACDC."
   ]
  },
  {
   "cell_type": "code",
   "execution_count": null,
   "id": "ed8b18ec-b9b9-40df-84d1-2dcb652852af",
   "metadata": {
    "editable": false,
    "slideshow": {
     "slide_type": ""
    },
    "tags": []
   },
   "outputs": [],
   "source": [
    "!kli vc list --name {holder_keystore_name} \\\n",
    "    --passcode {holder_keystore_passcode} \\\n",
    "    --verbose"
   ]
  },
  {
   "cell_type": "markdown",
   "id": "a9245d27-7736-4e55-aa18-c0d32d97864c",
   "metadata": {
    "editable": false,
    "slideshow": {
     "slide_type": ""
    },
    "tags": []
   },
   "source": [
    "<div class=\"alert alert-primary\">\n",
    "<b>📝 SUMMARY</b><hr>\n",
    "In the KERI and ACDC ecosystem credentials are created and issued as authentic chained data containers (ACDCs) within the Issuance and Presentation Exchange Protocol (IPEX).\n",
    "<br/>\n",
    "Issuance of an ACDC using this protocol involves the following steps:\n",
    "<ol>\n",
    "<li><b>Setup:</b> Issuer and Holder established identities (AIDs) and connected via OOBI resolution.</li>\n",
    "<li><b>Registry:</b> Issuer created a credential registry (managed via a TEL) to track credential status.</li>\n",
    "<li><b>Schema:</b> An ACDC schema was defined (using JSON Schema) and made verifiable through SAIDification. It was made discoverable via a simple caching server (vLEI-server) and resolved by both parties using its OOBI.</li>\n",
    "<li><b>Creation:</b> Issuer created the specific ACDC instance using kli vc create, providing data conforming to the schema and linking it to the registry.</li>\n",
    "<li><b>IPEX Issuance:</b>\n",
    "<ul>\n",
    "<li>Issuer offered the credential using kli ipex grant (sending a GRANT message).</li>\n",
    "<li>Holder received the offer (polling with kli ipex list --poll).</li>\n",
    "<li>Holder accepted the credential using kli ipex admit (sending an ADMIT message).</li>\n",
    "</ul>\n",
    "</li>\n",
    "<li><b>Result:</b> Holder successfully received and stored the verifiable credential (ACDC).</li>\n",
    "</ol>\n",
    "This process ensures that credentials are not only structured and verifiable against a schema but are also securely issued and provided to authenticated KERI identities.\n",
    "</div>"
   ]
  },
  {
   "cell_type": "markdown",
   "id": "2e441c16-d338-4ff2-b91e-25eefd274cdc",
   "metadata": {
    "editable": false,
    "slideshow": {
     "slide_type": ""
    },
    "tags": []
   },
   "source": [
    "[<- Prev (Saidify schema)](101_60_Saidify_schema.ipynb) | [Next (ACDC Presentation and Revocation) ->](101_70_ACDC_Presentation_and_Revocation.ipynb)"
   ]
  }
 ],
 "metadata": {
  "kernelspec": {
   "display_name": "Python 3 (ipykernel)",
   "language": "python",
   "name": "python3"
  },
  "language_info": {
   "codemirror_mode": {
    "name": "ipython",
    "version": 3
   },
   "file_extension": ".py",
   "mimetype": "text/x-python",
   "name": "python",
   "nbconvert_exporter": "python",
   "pygments_lexer": "ipython3",
   "version": "3.12.9"
  }
 },
 "nbformat": 4,
 "nbformat_minor": 5
}
